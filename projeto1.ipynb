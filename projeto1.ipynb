{
  "nbformat": 4,
  "nbformat_minor": 0,
  "metadata": {
    "colab": {
      "provenance": [],
      "toc_visible": true,
      "include_colab_link": true
    },
    "kernelspec": {
      "name": "python3",
      "display_name": "Python 3"
    },
    "language_info": {
      "name": "python"
    }
  },
  "cells": [
    {
      "cell_type": "markdown",
      "metadata": {
        "id": "view-in-github",
        "colab_type": "text"
      },
      "source": [
        "<a href=\"https://colab.research.google.com/github/julioclerio/-data_analyst_supermarket/blob/main/projeto1.ipynb\" target=\"_parent\"><img src=\"https://colab.research.google.com/assets/colab-badge.svg\" alt=\"Open In Colab\"/></a>"
      ]
    },
    {
      "cell_type": "markdown",
      "source": [
        "## Instalando as bibliotecas"
      ],
      "metadata": {
        "id": "2MrQTJ6E8UF7"
      }
    },
    {
      "cell_type": "code",
      "source": [
        "pip install pandera"
      ],
      "metadata": {
        "id": "axNwP-cT3Wlv"
      },
      "execution_count": null,
      "outputs": []
    },
    {
      "cell_type": "markdown",
      "source": [
        "##Importando bibliotecas"
      ],
      "metadata": {
        "id": "GSNcGbWI8MK_"
      }
    },
    {
      "cell_type": "code",
      "source": [
        "import pandas as pd\n",
        "import numpy as np\n",
        "import os\n",
        "import pandera as pa\n"
      ],
      "metadata": {
        "id": "MWmifcdN3PJ2"
      },
      "execution_count": null,
      "outputs": []
    },
    {
      "cell_type": "markdown",
      "source": [
        "##Criando database e coleção no MongoDB"
      ],
      "metadata": {
        "id": "yNSWKR8L8FZY"
      }
    },
    {
      "cell_type": "code",
      "source": [
        "path = #'inserir o caminho do arquivo aqui'"
      ],
      "metadata": {
        "id": "h_ShitaP4P7O"
      },
      "execution_count": null,
      "outputs": []
    },
    {
      "cell_type": "code",
      "source": [
        "df = pd.read_csv(path,sep=',')"
      ],
      "metadata": {
        "id": "Jl3jaFWO4ol-"
      },
      "execution_count": null,
      "outputs": []
    },
    {
      "cell_type": "code",
      "source": [
        "pd.set_option('display.max_columns',100)"
      ],
      "metadata": {
        "id": "UavcjHVJ77np"
      },
      "execution_count": null,
      "outputs": []
    },
    {
      "cell_type": "code",
      "source": [
        "df"
      ],
      "metadata": {
        "colab": {
          "base_uri": "https://localhost:8080/",
          "height": 487
        },
        "id": "ByN4MwF44qB2",
        "outputId": "c500ae78-d50f-4760-d343-663740aedc2c"
      },
      "execution_count": null,
      "outputs": [
        {
          "output_type": "execute_result",
          "data": {
            "text/plain": [
              "         ID  Year_Birth   Education Marital_Status   Income  Kidhome  \\\n",
              "0      5524        1957  Graduation         Single  58138.0        0   \n",
              "1      2174        1954  Graduation         Single  46344.0        1   \n",
              "2      4141        1965  Graduation       Together  71613.0        0   \n",
              "3      6182        1984  Graduation       Together  26646.0        1   \n",
              "4      5324        1981         PhD        Married  58293.0        1   \n",
              "...     ...         ...         ...            ...      ...      ...   \n",
              "2235  10870        1967  Graduation        Married  61223.0        0   \n",
              "2236   4001        1946         PhD       Together  64014.0        2   \n",
              "2237   7270        1981  Graduation       Divorced  56981.0        0   \n",
              "2238   8235        1956      Master       Together  69245.0        0   \n",
              "2239   9405        1954         PhD        Married  52869.0        1   \n",
              "\n",
              "      Teenhome Dt_Customer  Recency  MntWines  MntFruits  MntMeatProducts  \\\n",
              "0            0  04-09-2012       58       635         88              546   \n",
              "1            1  08-03-2014       38        11          1                6   \n",
              "2            0  21-08-2013       26       426         49              127   \n",
              "3            0  10-02-2014       26        11          4               20   \n",
              "4            0  19-01-2014       94       173         43              118   \n",
              "...        ...         ...      ...       ...        ...              ...   \n",
              "2235         1  13-06-2013       46       709         43              182   \n",
              "2236         1  10-06-2014       56       406          0               30   \n",
              "2237         0  25-01-2014       91       908         48              217   \n",
              "2238         1  24-01-2014        8       428         30              214   \n",
              "2239         1  15-10-2012       40        84          3               61   \n",
              "\n",
              "      MntFishProducts  MntSweetProducts  MntGoldProds  NumDealsPurchases  \\\n",
              "0                 172                88            88                  3   \n",
              "1                   2                 1             6                  2   \n",
              "2                 111                21            42                  1   \n",
              "3                  10                 3             5                  2   \n",
              "4                  46                27            15                  5   \n",
              "...               ...               ...           ...                ...   \n",
              "2235               42               118           247                  2   \n",
              "2236                0                 0             8                  7   \n",
              "2237               32                12            24                  1   \n",
              "2238               80                30            61                  2   \n",
              "2239                2                 1            21                  3   \n",
              "\n",
              "      NumWebPurchases  NumCatalogPurchases  NumStorePurchases  \\\n",
              "0                   8                   10                  4   \n",
              "1                   1                    1                  2   \n",
              "2                   8                    2                 10   \n",
              "3                   2                    0                  4   \n",
              "4                   5                    3                  6   \n",
              "...               ...                  ...                ...   \n",
              "2235                9                    3                  4   \n",
              "2236                8                    2                  5   \n",
              "2237                2                    3                 13   \n",
              "2238                6                    5                 10   \n",
              "2239                3                    1                  4   \n",
              "\n",
              "      NumWebVisitsMonth  AcceptedCmp3  AcceptedCmp4  AcceptedCmp5  \\\n",
              "0                     7             0             0             0   \n",
              "1                     5             0             0             0   \n",
              "2                     4             0             0             0   \n",
              "3                     6             0             0             0   \n",
              "4                     5             0             0             0   \n",
              "...                 ...           ...           ...           ...   \n",
              "2235                  5             0             0             0   \n",
              "2236                  7             0             0             0   \n",
              "2237                  6             0             1             0   \n",
              "2238                  3             0             0             0   \n",
              "2239                  7             0             0             0   \n",
              "\n",
              "      AcceptedCmp1  AcceptedCmp2  Complain  Z_CostContact  Z_Revenue  Response  \n",
              "0                0             0         0              3         11         1  \n",
              "1                0             0         0              3         11         0  \n",
              "2                0             0         0              3         11         0  \n",
              "3                0             0         0              3         11         0  \n",
              "4                0             0         0              3         11         0  \n",
              "...            ...           ...       ...            ...        ...       ...  \n",
              "2235             0             0         0              3         11         0  \n",
              "2236             1             0         0              3         11         0  \n",
              "2237             0             0         0              3         11         0  \n",
              "2238             0             0         0              3         11         0  \n",
              "2239             0             0         0              3         11         1  \n",
              "\n",
              "[2240 rows x 29 columns]"
            ],
            "text/html": [
              "\n",
              "  <div id=\"df-dff7e8e0-aa04-4852-9e1a-b43bfdd439ee\">\n",
              "    <div class=\"colab-df-container\">\n",
              "      <div>\n",
              "<style scoped>\n",
              "    .dataframe tbody tr th:only-of-type {\n",
              "        vertical-align: middle;\n",
              "    }\n",
              "\n",
              "    .dataframe tbody tr th {\n",
              "        vertical-align: top;\n",
              "    }\n",
              "\n",
              "    .dataframe thead th {\n",
              "        text-align: right;\n",
              "    }\n",
              "</style>\n",
              "<table border=\"1\" class=\"dataframe\">\n",
              "  <thead>\n",
              "    <tr style=\"text-align: right;\">\n",
              "      <th></th>\n",
              "      <th>ID</th>\n",
              "      <th>Year_Birth</th>\n",
              "      <th>Education</th>\n",
              "      <th>Marital_Status</th>\n",
              "      <th>Income</th>\n",
              "      <th>Kidhome</th>\n",
              "      <th>Teenhome</th>\n",
              "      <th>Dt_Customer</th>\n",
              "      <th>Recency</th>\n",
              "      <th>MntWines</th>\n",
              "      <th>MntFruits</th>\n",
              "      <th>MntMeatProducts</th>\n",
              "      <th>MntFishProducts</th>\n",
              "      <th>MntSweetProducts</th>\n",
              "      <th>MntGoldProds</th>\n",
              "      <th>NumDealsPurchases</th>\n",
              "      <th>NumWebPurchases</th>\n",
              "      <th>NumCatalogPurchases</th>\n",
              "      <th>NumStorePurchases</th>\n",
              "      <th>NumWebVisitsMonth</th>\n",
              "      <th>AcceptedCmp3</th>\n",
              "      <th>AcceptedCmp4</th>\n",
              "      <th>AcceptedCmp5</th>\n",
              "      <th>AcceptedCmp1</th>\n",
              "      <th>AcceptedCmp2</th>\n",
              "      <th>Complain</th>\n",
              "      <th>Z_CostContact</th>\n",
              "      <th>Z_Revenue</th>\n",
              "      <th>Response</th>\n",
              "    </tr>\n",
              "  </thead>\n",
              "  <tbody>\n",
              "    <tr>\n",
              "      <th>0</th>\n",
              "      <td>5524</td>\n",
              "      <td>1957</td>\n",
              "      <td>Graduation</td>\n",
              "      <td>Single</td>\n",
              "      <td>58138.0</td>\n",
              "      <td>0</td>\n",
              "      <td>0</td>\n",
              "      <td>04-09-2012</td>\n",
              "      <td>58</td>\n",
              "      <td>635</td>\n",
              "      <td>88</td>\n",
              "      <td>546</td>\n",
              "      <td>172</td>\n",
              "      <td>88</td>\n",
              "      <td>88</td>\n",
              "      <td>3</td>\n",
              "      <td>8</td>\n",
              "      <td>10</td>\n",
              "      <td>4</td>\n",
              "      <td>7</td>\n",
              "      <td>0</td>\n",
              "      <td>0</td>\n",
              "      <td>0</td>\n",
              "      <td>0</td>\n",
              "      <td>0</td>\n",
              "      <td>0</td>\n",
              "      <td>3</td>\n",
              "      <td>11</td>\n",
              "      <td>1</td>\n",
              "    </tr>\n",
              "    <tr>\n",
              "      <th>1</th>\n",
              "      <td>2174</td>\n",
              "      <td>1954</td>\n",
              "      <td>Graduation</td>\n",
              "      <td>Single</td>\n",
              "      <td>46344.0</td>\n",
              "      <td>1</td>\n",
              "      <td>1</td>\n",
              "      <td>08-03-2014</td>\n",
              "      <td>38</td>\n",
              "      <td>11</td>\n",
              "      <td>1</td>\n",
              "      <td>6</td>\n",
              "      <td>2</td>\n",
              "      <td>1</td>\n",
              "      <td>6</td>\n",
              "      <td>2</td>\n",
              "      <td>1</td>\n",
              "      <td>1</td>\n",
              "      <td>2</td>\n",
              "      <td>5</td>\n",
              "      <td>0</td>\n",
              "      <td>0</td>\n",
              "      <td>0</td>\n",
              "      <td>0</td>\n",
              "      <td>0</td>\n",
              "      <td>0</td>\n",
              "      <td>3</td>\n",
              "      <td>11</td>\n",
              "      <td>0</td>\n",
              "    </tr>\n",
              "    <tr>\n",
              "      <th>2</th>\n",
              "      <td>4141</td>\n",
              "      <td>1965</td>\n",
              "      <td>Graduation</td>\n",
              "      <td>Together</td>\n",
              "      <td>71613.0</td>\n",
              "      <td>0</td>\n",
              "      <td>0</td>\n",
              "      <td>21-08-2013</td>\n",
              "      <td>26</td>\n",
              "      <td>426</td>\n",
              "      <td>49</td>\n",
              "      <td>127</td>\n",
              "      <td>111</td>\n",
              "      <td>21</td>\n",
              "      <td>42</td>\n",
              "      <td>1</td>\n",
              "      <td>8</td>\n",
              "      <td>2</td>\n",
              "      <td>10</td>\n",
              "      <td>4</td>\n",
              "      <td>0</td>\n",
              "      <td>0</td>\n",
              "      <td>0</td>\n",
              "      <td>0</td>\n",
              "      <td>0</td>\n",
              "      <td>0</td>\n",
              "      <td>3</td>\n",
              "      <td>11</td>\n",
              "      <td>0</td>\n",
              "    </tr>\n",
              "    <tr>\n",
              "      <th>3</th>\n",
              "      <td>6182</td>\n",
              "      <td>1984</td>\n",
              "      <td>Graduation</td>\n",
              "      <td>Together</td>\n",
              "      <td>26646.0</td>\n",
              "      <td>1</td>\n",
              "      <td>0</td>\n",
              "      <td>10-02-2014</td>\n",
              "      <td>26</td>\n",
              "      <td>11</td>\n",
              "      <td>4</td>\n",
              "      <td>20</td>\n",
              "      <td>10</td>\n",
              "      <td>3</td>\n",
              "      <td>5</td>\n",
              "      <td>2</td>\n",
              "      <td>2</td>\n",
              "      <td>0</td>\n",
              "      <td>4</td>\n",
              "      <td>6</td>\n",
              "      <td>0</td>\n",
              "      <td>0</td>\n",
              "      <td>0</td>\n",
              "      <td>0</td>\n",
              "      <td>0</td>\n",
              "      <td>0</td>\n",
              "      <td>3</td>\n",
              "      <td>11</td>\n",
              "      <td>0</td>\n",
              "    </tr>\n",
              "    <tr>\n",
              "      <th>4</th>\n",
              "      <td>5324</td>\n",
              "      <td>1981</td>\n",
              "      <td>PhD</td>\n",
              "      <td>Married</td>\n",
              "      <td>58293.0</td>\n",
              "      <td>1</td>\n",
              "      <td>0</td>\n",
              "      <td>19-01-2014</td>\n",
              "      <td>94</td>\n",
              "      <td>173</td>\n",
              "      <td>43</td>\n",
              "      <td>118</td>\n",
              "      <td>46</td>\n",
              "      <td>27</td>\n",
              "      <td>15</td>\n",
              "      <td>5</td>\n",
              "      <td>5</td>\n",
              "      <td>3</td>\n",
              "      <td>6</td>\n",
              "      <td>5</td>\n",
              "      <td>0</td>\n",
              "      <td>0</td>\n",
              "      <td>0</td>\n",
              "      <td>0</td>\n",
              "      <td>0</td>\n",
              "      <td>0</td>\n",
              "      <td>3</td>\n",
              "      <td>11</td>\n",
              "      <td>0</td>\n",
              "    </tr>\n",
              "    <tr>\n",
              "      <th>...</th>\n",
              "      <td>...</td>\n",
              "      <td>...</td>\n",
              "      <td>...</td>\n",
              "      <td>...</td>\n",
              "      <td>...</td>\n",
              "      <td>...</td>\n",
              "      <td>...</td>\n",
              "      <td>...</td>\n",
              "      <td>...</td>\n",
              "      <td>...</td>\n",
              "      <td>...</td>\n",
              "      <td>...</td>\n",
              "      <td>...</td>\n",
              "      <td>...</td>\n",
              "      <td>...</td>\n",
              "      <td>...</td>\n",
              "      <td>...</td>\n",
              "      <td>...</td>\n",
              "      <td>...</td>\n",
              "      <td>...</td>\n",
              "      <td>...</td>\n",
              "      <td>...</td>\n",
              "      <td>...</td>\n",
              "      <td>...</td>\n",
              "      <td>...</td>\n",
              "      <td>...</td>\n",
              "      <td>...</td>\n",
              "      <td>...</td>\n",
              "      <td>...</td>\n",
              "    </tr>\n",
              "    <tr>\n",
              "      <th>2235</th>\n",
              "      <td>10870</td>\n",
              "      <td>1967</td>\n",
              "      <td>Graduation</td>\n",
              "      <td>Married</td>\n",
              "      <td>61223.0</td>\n",
              "      <td>0</td>\n",
              "      <td>1</td>\n",
              "      <td>13-06-2013</td>\n",
              "      <td>46</td>\n",
              "      <td>709</td>\n",
              "      <td>43</td>\n",
              "      <td>182</td>\n",
              "      <td>42</td>\n",
              "      <td>118</td>\n",
              "      <td>247</td>\n",
              "      <td>2</td>\n",
              "      <td>9</td>\n",
              "      <td>3</td>\n",
              "      <td>4</td>\n",
              "      <td>5</td>\n",
              "      <td>0</td>\n",
              "      <td>0</td>\n",
              "      <td>0</td>\n",
              "      <td>0</td>\n",
              "      <td>0</td>\n",
              "      <td>0</td>\n",
              "      <td>3</td>\n",
              "      <td>11</td>\n",
              "      <td>0</td>\n",
              "    </tr>\n",
              "    <tr>\n",
              "      <th>2236</th>\n",
              "      <td>4001</td>\n",
              "      <td>1946</td>\n",
              "      <td>PhD</td>\n",
              "      <td>Together</td>\n",
              "      <td>64014.0</td>\n",
              "      <td>2</td>\n",
              "      <td>1</td>\n",
              "      <td>10-06-2014</td>\n",
              "      <td>56</td>\n",
              "      <td>406</td>\n",
              "      <td>0</td>\n",
              "      <td>30</td>\n",
              "      <td>0</td>\n",
              "      <td>0</td>\n",
              "      <td>8</td>\n",
              "      <td>7</td>\n",
              "      <td>8</td>\n",
              "      <td>2</td>\n",
              "      <td>5</td>\n",
              "      <td>7</td>\n",
              "      <td>0</td>\n",
              "      <td>0</td>\n",
              "      <td>0</td>\n",
              "      <td>1</td>\n",
              "      <td>0</td>\n",
              "      <td>0</td>\n",
              "      <td>3</td>\n",
              "      <td>11</td>\n",
              "      <td>0</td>\n",
              "    </tr>\n",
              "    <tr>\n",
              "      <th>2237</th>\n",
              "      <td>7270</td>\n",
              "      <td>1981</td>\n",
              "      <td>Graduation</td>\n",
              "      <td>Divorced</td>\n",
              "      <td>56981.0</td>\n",
              "      <td>0</td>\n",
              "      <td>0</td>\n",
              "      <td>25-01-2014</td>\n",
              "      <td>91</td>\n",
              "      <td>908</td>\n",
              "      <td>48</td>\n",
              "      <td>217</td>\n",
              "      <td>32</td>\n",
              "      <td>12</td>\n",
              "      <td>24</td>\n",
              "      <td>1</td>\n",
              "      <td>2</td>\n",
              "      <td>3</td>\n",
              "      <td>13</td>\n",
              "      <td>6</td>\n",
              "      <td>0</td>\n",
              "      <td>1</td>\n",
              "      <td>0</td>\n",
              "      <td>0</td>\n",
              "      <td>0</td>\n",
              "      <td>0</td>\n",
              "      <td>3</td>\n",
              "      <td>11</td>\n",
              "      <td>0</td>\n",
              "    </tr>\n",
              "    <tr>\n",
              "      <th>2238</th>\n",
              "      <td>8235</td>\n",
              "      <td>1956</td>\n",
              "      <td>Master</td>\n",
              "      <td>Together</td>\n",
              "      <td>69245.0</td>\n",
              "      <td>0</td>\n",
              "      <td>1</td>\n",
              "      <td>24-01-2014</td>\n",
              "      <td>8</td>\n",
              "      <td>428</td>\n",
              "      <td>30</td>\n",
              "      <td>214</td>\n",
              "      <td>80</td>\n",
              "      <td>30</td>\n",
              "      <td>61</td>\n",
              "      <td>2</td>\n",
              "      <td>6</td>\n",
              "      <td>5</td>\n",
              "      <td>10</td>\n",
              "      <td>3</td>\n",
              "      <td>0</td>\n",
              "      <td>0</td>\n",
              "      <td>0</td>\n",
              "      <td>0</td>\n",
              "      <td>0</td>\n",
              "      <td>0</td>\n",
              "      <td>3</td>\n",
              "      <td>11</td>\n",
              "      <td>0</td>\n",
              "    </tr>\n",
              "    <tr>\n",
              "      <th>2239</th>\n",
              "      <td>9405</td>\n",
              "      <td>1954</td>\n",
              "      <td>PhD</td>\n",
              "      <td>Married</td>\n",
              "      <td>52869.0</td>\n",
              "      <td>1</td>\n",
              "      <td>1</td>\n",
              "      <td>15-10-2012</td>\n",
              "      <td>40</td>\n",
              "      <td>84</td>\n",
              "      <td>3</td>\n",
              "      <td>61</td>\n",
              "      <td>2</td>\n",
              "      <td>1</td>\n",
              "      <td>21</td>\n",
              "      <td>3</td>\n",
              "      <td>3</td>\n",
              "      <td>1</td>\n",
              "      <td>4</td>\n",
              "      <td>7</td>\n",
              "      <td>0</td>\n",
              "      <td>0</td>\n",
              "      <td>0</td>\n",
              "      <td>0</td>\n",
              "      <td>0</td>\n",
              "      <td>0</td>\n",
              "      <td>3</td>\n",
              "      <td>11</td>\n",
              "      <td>1</td>\n",
              "    </tr>\n",
              "  </tbody>\n",
              "</table>\n",
              "<p>2240 rows × 29 columns</p>\n",
              "</div>\n",
              "      <button class=\"colab-df-convert\" onclick=\"convertToInteractive('df-dff7e8e0-aa04-4852-9e1a-b43bfdd439ee')\"\n",
              "              title=\"Convert this dataframe to an interactive table.\"\n",
              "              style=\"display:none;\">\n",
              "        \n",
              "  <svg xmlns=\"http://www.w3.org/2000/svg\" height=\"24px\"viewBox=\"0 0 24 24\"\n",
              "       width=\"24px\">\n",
              "    <path d=\"M0 0h24v24H0V0z\" fill=\"none\"/>\n",
              "    <path d=\"M18.56 5.44l.94 2.06.94-2.06 2.06-.94-2.06-.94-.94-2.06-.94 2.06-2.06.94zm-11 1L8.5 8.5l.94-2.06 2.06-.94-2.06-.94L8.5 2.5l-.94 2.06-2.06.94zm10 10l.94 2.06.94-2.06 2.06-.94-2.06-.94-.94-2.06-.94 2.06-2.06.94z\"/><path d=\"M17.41 7.96l-1.37-1.37c-.4-.4-.92-.59-1.43-.59-.52 0-1.04.2-1.43.59L10.3 9.45l-7.72 7.72c-.78.78-.78 2.05 0 2.83L4 21.41c.39.39.9.59 1.41.59.51 0 1.02-.2 1.41-.59l7.78-7.78 2.81-2.81c.8-.78.8-2.07 0-2.86zM5.41 20L4 18.59l7.72-7.72 1.47 1.35L5.41 20z\"/>\n",
              "  </svg>\n",
              "      </button>\n",
              "      \n",
              "  <style>\n",
              "    .colab-df-container {\n",
              "      display:flex;\n",
              "      flex-wrap:wrap;\n",
              "      gap: 12px;\n",
              "    }\n",
              "\n",
              "    .colab-df-convert {\n",
              "      background-color: #E8F0FE;\n",
              "      border: none;\n",
              "      border-radius: 50%;\n",
              "      cursor: pointer;\n",
              "      display: none;\n",
              "      fill: #1967D2;\n",
              "      height: 32px;\n",
              "      padding: 0 0 0 0;\n",
              "      width: 32px;\n",
              "    }\n",
              "\n",
              "    .colab-df-convert:hover {\n",
              "      background-color: #E2EBFA;\n",
              "      box-shadow: 0px 1px 2px rgba(60, 64, 67, 0.3), 0px 1px 3px 1px rgba(60, 64, 67, 0.15);\n",
              "      fill: #174EA6;\n",
              "    }\n",
              "\n",
              "    [theme=dark] .colab-df-convert {\n",
              "      background-color: #3B4455;\n",
              "      fill: #D2E3FC;\n",
              "    }\n",
              "\n",
              "    [theme=dark] .colab-df-convert:hover {\n",
              "      background-color: #434B5C;\n",
              "      box-shadow: 0px 1px 3px 1px rgba(0, 0, 0, 0.15);\n",
              "      filter: drop-shadow(0px 1px 2px rgba(0, 0, 0, 0.3));\n",
              "      fill: #FFFFFF;\n",
              "    }\n",
              "  </style>\n",
              "\n",
              "      <script>\n",
              "        const buttonEl =\n",
              "          document.querySelector('#df-dff7e8e0-aa04-4852-9e1a-b43bfdd439ee button.colab-df-convert');\n",
              "        buttonEl.style.display =\n",
              "          google.colab.kernel.accessAllowed ? 'block' : 'none';\n",
              "\n",
              "        async function convertToInteractive(key) {\n",
              "          const element = document.querySelector('#df-dff7e8e0-aa04-4852-9e1a-b43bfdd439ee');\n",
              "          const dataTable =\n",
              "            await google.colab.kernel.invokeFunction('convertToInteractive',\n",
              "                                                     [key], {});\n",
              "          if (!dataTable) return;\n",
              "\n",
              "          const docLinkHtml = 'Like what you see? Visit the ' +\n",
              "            '<a target=\"_blank\" href=https://colab.research.google.com/notebooks/data_table.ipynb>data table notebook</a>'\n",
              "            + ' to learn more about interactive tables.';\n",
              "          element.innerHTML = '';\n",
              "          dataTable['output_type'] = 'display_data';\n",
              "          await google.colab.output.renderOutput(dataTable, element);\n",
              "          const docLink = document.createElement('div');\n",
              "          docLink.innerHTML = docLinkHtml;\n",
              "          element.appendChild(docLink);\n",
              "        }\n",
              "      </script>\n",
              "    </div>\n",
              "  </div>\n",
              "  "
            ]
          },
          "metadata": {},
          "execution_count": 17
        }
      ]
    },
    {
      "cell_type": "code",
      "source": [
        "df_dict = df.to_dict('records')\n",
        "colecao.insert_many(df_dict)"
      ],
      "metadata": {
        "colab": {
          "base_uri": "https://localhost:8080/"
        },
        "id": "uovLa-7U4wiN",
        "outputId": "fb735fc1-dcff-4601-95ff-4fcb8b16d6c9"
      },
      "execution_count": null,
      "outputs": [
        {
          "output_type": "execute_result",
          "data": {
            "text/plain": [
              "<pymongo.results.InsertManyResult at 0x7ff5adcbad00>"
            ]
          },
          "metadata": {},
          "execution_count": 18
        }
      ]
    },
    {
      "cell_type": "code",
      "source": [
        "df.dtypes"
      ],
      "metadata": {
        "colab": {
          "base_uri": "https://localhost:8080/"
        },
        "id": "Vj1ibTF_5mcw",
        "outputId": "72f0e827-3dc9-4ffa-f259-b2a574f81db6"
      },
      "execution_count": null,
      "outputs": [
        {
          "output_type": "execute_result",
          "data": {
            "text/plain": [
              "ID                       int64\n",
              "Year_Birth               int64\n",
              "Education               object\n",
              "Marital_Status          object\n",
              "Income                 float64\n",
              "Kidhome                  int64\n",
              "Teenhome                 int64\n",
              "Dt_Customer             object\n",
              "Recency                  int64\n",
              "MntWines                 int64\n",
              "MntFruits                int64\n",
              "MntMeatProducts          int64\n",
              "MntFishProducts          int64\n",
              "MntSweetProducts         int64\n",
              "MntGoldProds             int64\n",
              "NumDealsPurchases        int64\n",
              "NumWebPurchases          int64\n",
              "NumCatalogPurchases      int64\n",
              "NumStorePurchases        int64\n",
              "NumWebVisitsMonth        int64\n",
              "AcceptedCmp3             int64\n",
              "AcceptedCmp4             int64\n",
              "AcceptedCmp5             int64\n",
              "AcceptedCmp1             int64\n",
              "AcceptedCmp2             int64\n",
              "Complain                 int64\n",
              "Z_CostContact            int64\n",
              "Z_Revenue                int64\n",
              "Response                 int64\n",
              "dtype: object"
            ]
          },
          "metadata": {},
          "execution_count": 19
        }
      ]
    },
    {
      "cell_type": "code",
      "source": [
        "# traduzir título colunas\n",
        "df.rename(columns={'Year_Birth':'ano_nasc','Education':'escolaridade','Marital_Status':'estado_civil','Income':'renda','Kidhome':'n_criancas','Teenhome':'n_adolescentes','Dt_Customer':'dt_cadastro','Recency':'rfm',\n",
        "                  'MntWines':'vinho','MntFruits':'frutas','MntMeatProducts':'carne','MntFishProducts':'peixe','MntSweetProducts':'doces','MntGoldProds':'prod_premiun',\n",
        "                   'NumDealsPurchases':'compras_ofertas','NumWebPurchases':'compras_web','NumCatalogPurchases':'compras_catalogo','NumStorePurchases':'compras_loja','NumWebVisitsMonth':'media_visitas_site','Complain':'reclamacoes','Z_Revenue':'receita_gerada','response':'resposta','Z_CostContact':'custo_contrato'},inplace=True)"
      ],
      "metadata": {
        "id": "KMkmp_2jvAD8"
      },
      "execution_count": null,
      "outputs": []
    },
    {
      "cell_type": "code",
      "source": [
        "df"
      ],
      "metadata": {
        "colab": {
          "base_uri": "https://localhost:8080/",
          "height": 487
        },
        "id": "MZdi2FL3vkHK",
        "outputId": "be37a487-0926-4c42-b492-4229af3e0fd4"
      },
      "execution_count": null,
      "outputs": [
        {
          "output_type": "execute_result",
          "data": {
            "text/plain": [
              "         ID  ano_nasc escolaridade estado_civil    renda  n_criancas  \\\n",
              "0      5524      1957   Graduation       Single  58138.0           0   \n",
              "1      2174      1954   Graduation       Single  46344.0           1   \n",
              "2      4141      1965   Graduation     Together  71613.0           0   \n",
              "3      6182      1984   Graduation     Together  26646.0           1   \n",
              "4      5324      1981          PhD      Married  58293.0           1   \n",
              "...     ...       ...          ...          ...      ...         ...   \n",
              "2235  10870      1967   Graduation      Married  61223.0           0   \n",
              "2236   4001      1946          PhD     Together  64014.0           2   \n",
              "2237   7270      1981   Graduation     Divorced  56981.0           0   \n",
              "2238   8235      1956       Master     Together  69245.0           0   \n",
              "2239   9405      1954          PhD      Married  52869.0           1   \n",
              "\n",
              "      n_adolescentes dt_cadastro  rfm  vinho  frutas  carne  peixe  doces  \\\n",
              "0                  0  04-09-2012   58    635      88    546    172     88   \n",
              "1                  1  08-03-2014   38     11       1      6      2      1   \n",
              "2                  0  21-08-2013   26    426      49    127    111     21   \n",
              "3                  0  10-02-2014   26     11       4     20     10      3   \n",
              "4                  0  19-01-2014   94    173      43    118     46     27   \n",
              "...              ...         ...  ...    ...     ...    ...    ...    ...   \n",
              "2235               1  13-06-2013   46    709      43    182     42    118   \n",
              "2236               1  10-06-2014   56    406       0     30      0      0   \n",
              "2237               0  25-01-2014   91    908      48    217     32     12   \n",
              "2238               1  24-01-2014    8    428      30    214     80     30   \n",
              "2239               1  15-10-2012   40     84       3     61      2      1   \n",
              "\n",
              "      prod_premiun  compras_ofertas  compras_web  compras_catalogo  \\\n",
              "0               88                3            8                10   \n",
              "1                6                2            1                 1   \n",
              "2               42                1            8                 2   \n",
              "3                5                2            2                 0   \n",
              "4               15                5            5                 3   \n",
              "...            ...              ...          ...               ...   \n",
              "2235           247                2            9                 3   \n",
              "2236             8                7            8                 2   \n",
              "2237            24                1            2                 3   \n",
              "2238            61                2            6                 5   \n",
              "2239            21                3            3                 1   \n",
              "\n",
              "      compras_loja  media_visitas_site  AcceptedCmp3  AcceptedCmp4  \\\n",
              "0                4                   7             0             0   \n",
              "1                2                   5             0             0   \n",
              "2               10                   4             0             0   \n",
              "3                4                   6             0             0   \n",
              "4                6                   5             0             0   \n",
              "...            ...                 ...           ...           ...   \n",
              "2235             4                   5             0             0   \n",
              "2236             5                   7             0             0   \n",
              "2237            13                   6             0             1   \n",
              "2238            10                   3             0             0   \n",
              "2239             4                   7             0             0   \n",
              "\n",
              "      AcceptedCmp5  AcceptedCmp1  AcceptedCmp2  reclamacoes  custo_contrato  \\\n",
              "0                0             0             0            0               3   \n",
              "1                0             0             0            0               3   \n",
              "2                0             0             0            0               3   \n",
              "3                0             0             0            0               3   \n",
              "4                0             0             0            0               3   \n",
              "...            ...           ...           ...          ...             ...   \n",
              "2235             0             0             0            0               3   \n",
              "2236             0             1             0            0               3   \n",
              "2237             0             0             0            0               3   \n",
              "2238             0             0             0            0               3   \n",
              "2239             0             0             0            0               3   \n",
              "\n",
              "      receita_gerada  Response  \n",
              "0                 11         1  \n",
              "1                 11         0  \n",
              "2                 11         0  \n",
              "3                 11         0  \n",
              "4                 11         0  \n",
              "...              ...       ...  \n",
              "2235              11         0  \n",
              "2236              11         0  \n",
              "2237              11         0  \n",
              "2238              11         0  \n",
              "2239              11         1  \n",
              "\n",
              "[2240 rows x 29 columns]"
            ],
            "text/html": [
              "\n",
              "  <div id=\"df-1f39ed03-bc00-44a0-900f-20ee45672336\">\n",
              "    <div class=\"colab-df-container\">\n",
              "      <div>\n",
              "<style scoped>\n",
              "    .dataframe tbody tr th:only-of-type {\n",
              "        vertical-align: middle;\n",
              "    }\n",
              "\n",
              "    .dataframe tbody tr th {\n",
              "        vertical-align: top;\n",
              "    }\n",
              "\n",
              "    .dataframe thead th {\n",
              "        text-align: right;\n",
              "    }\n",
              "</style>\n",
              "<table border=\"1\" class=\"dataframe\">\n",
              "  <thead>\n",
              "    <tr style=\"text-align: right;\">\n",
              "      <th></th>\n",
              "      <th>ID</th>\n",
              "      <th>ano_nasc</th>\n",
              "      <th>escolaridade</th>\n",
              "      <th>estado_civil</th>\n",
              "      <th>renda</th>\n",
              "      <th>n_criancas</th>\n",
              "      <th>n_adolescentes</th>\n",
              "      <th>dt_cadastro</th>\n",
              "      <th>rfm</th>\n",
              "      <th>vinho</th>\n",
              "      <th>frutas</th>\n",
              "      <th>carne</th>\n",
              "      <th>peixe</th>\n",
              "      <th>doces</th>\n",
              "      <th>prod_premiun</th>\n",
              "      <th>compras_ofertas</th>\n",
              "      <th>compras_web</th>\n",
              "      <th>compras_catalogo</th>\n",
              "      <th>compras_loja</th>\n",
              "      <th>media_visitas_site</th>\n",
              "      <th>AcceptedCmp3</th>\n",
              "      <th>AcceptedCmp4</th>\n",
              "      <th>AcceptedCmp5</th>\n",
              "      <th>AcceptedCmp1</th>\n",
              "      <th>AcceptedCmp2</th>\n",
              "      <th>reclamacoes</th>\n",
              "      <th>custo_contrato</th>\n",
              "      <th>receita_gerada</th>\n",
              "      <th>Response</th>\n",
              "    </tr>\n",
              "  </thead>\n",
              "  <tbody>\n",
              "    <tr>\n",
              "      <th>0</th>\n",
              "      <td>5524</td>\n",
              "      <td>1957</td>\n",
              "      <td>Graduation</td>\n",
              "      <td>Single</td>\n",
              "      <td>58138.0</td>\n",
              "      <td>0</td>\n",
              "      <td>0</td>\n",
              "      <td>04-09-2012</td>\n",
              "      <td>58</td>\n",
              "      <td>635</td>\n",
              "      <td>88</td>\n",
              "      <td>546</td>\n",
              "      <td>172</td>\n",
              "      <td>88</td>\n",
              "      <td>88</td>\n",
              "      <td>3</td>\n",
              "      <td>8</td>\n",
              "      <td>10</td>\n",
              "      <td>4</td>\n",
              "      <td>7</td>\n",
              "      <td>0</td>\n",
              "      <td>0</td>\n",
              "      <td>0</td>\n",
              "      <td>0</td>\n",
              "      <td>0</td>\n",
              "      <td>0</td>\n",
              "      <td>3</td>\n",
              "      <td>11</td>\n",
              "      <td>1</td>\n",
              "    </tr>\n",
              "    <tr>\n",
              "      <th>1</th>\n",
              "      <td>2174</td>\n",
              "      <td>1954</td>\n",
              "      <td>Graduation</td>\n",
              "      <td>Single</td>\n",
              "      <td>46344.0</td>\n",
              "      <td>1</td>\n",
              "      <td>1</td>\n",
              "      <td>08-03-2014</td>\n",
              "      <td>38</td>\n",
              "      <td>11</td>\n",
              "      <td>1</td>\n",
              "      <td>6</td>\n",
              "      <td>2</td>\n",
              "      <td>1</td>\n",
              "      <td>6</td>\n",
              "      <td>2</td>\n",
              "      <td>1</td>\n",
              "      <td>1</td>\n",
              "      <td>2</td>\n",
              "      <td>5</td>\n",
              "      <td>0</td>\n",
              "      <td>0</td>\n",
              "      <td>0</td>\n",
              "      <td>0</td>\n",
              "      <td>0</td>\n",
              "      <td>0</td>\n",
              "      <td>3</td>\n",
              "      <td>11</td>\n",
              "      <td>0</td>\n",
              "    </tr>\n",
              "    <tr>\n",
              "      <th>2</th>\n",
              "      <td>4141</td>\n",
              "      <td>1965</td>\n",
              "      <td>Graduation</td>\n",
              "      <td>Together</td>\n",
              "      <td>71613.0</td>\n",
              "      <td>0</td>\n",
              "      <td>0</td>\n",
              "      <td>21-08-2013</td>\n",
              "      <td>26</td>\n",
              "      <td>426</td>\n",
              "      <td>49</td>\n",
              "      <td>127</td>\n",
              "      <td>111</td>\n",
              "      <td>21</td>\n",
              "      <td>42</td>\n",
              "      <td>1</td>\n",
              "      <td>8</td>\n",
              "      <td>2</td>\n",
              "      <td>10</td>\n",
              "      <td>4</td>\n",
              "      <td>0</td>\n",
              "      <td>0</td>\n",
              "      <td>0</td>\n",
              "      <td>0</td>\n",
              "      <td>0</td>\n",
              "      <td>0</td>\n",
              "      <td>3</td>\n",
              "      <td>11</td>\n",
              "      <td>0</td>\n",
              "    </tr>\n",
              "    <tr>\n",
              "      <th>3</th>\n",
              "      <td>6182</td>\n",
              "      <td>1984</td>\n",
              "      <td>Graduation</td>\n",
              "      <td>Together</td>\n",
              "      <td>26646.0</td>\n",
              "      <td>1</td>\n",
              "      <td>0</td>\n",
              "      <td>10-02-2014</td>\n",
              "      <td>26</td>\n",
              "      <td>11</td>\n",
              "      <td>4</td>\n",
              "      <td>20</td>\n",
              "      <td>10</td>\n",
              "      <td>3</td>\n",
              "      <td>5</td>\n",
              "      <td>2</td>\n",
              "      <td>2</td>\n",
              "      <td>0</td>\n",
              "      <td>4</td>\n",
              "      <td>6</td>\n",
              "      <td>0</td>\n",
              "      <td>0</td>\n",
              "      <td>0</td>\n",
              "      <td>0</td>\n",
              "      <td>0</td>\n",
              "      <td>0</td>\n",
              "      <td>3</td>\n",
              "      <td>11</td>\n",
              "      <td>0</td>\n",
              "    </tr>\n",
              "    <tr>\n",
              "      <th>4</th>\n",
              "      <td>5324</td>\n",
              "      <td>1981</td>\n",
              "      <td>PhD</td>\n",
              "      <td>Married</td>\n",
              "      <td>58293.0</td>\n",
              "      <td>1</td>\n",
              "      <td>0</td>\n",
              "      <td>19-01-2014</td>\n",
              "      <td>94</td>\n",
              "      <td>173</td>\n",
              "      <td>43</td>\n",
              "      <td>118</td>\n",
              "      <td>46</td>\n",
              "      <td>27</td>\n",
              "      <td>15</td>\n",
              "      <td>5</td>\n",
              "      <td>5</td>\n",
              "      <td>3</td>\n",
              "      <td>6</td>\n",
              "      <td>5</td>\n",
              "      <td>0</td>\n",
              "      <td>0</td>\n",
              "      <td>0</td>\n",
              "      <td>0</td>\n",
              "      <td>0</td>\n",
              "      <td>0</td>\n",
              "      <td>3</td>\n",
              "      <td>11</td>\n",
              "      <td>0</td>\n",
              "    </tr>\n",
              "    <tr>\n",
              "      <th>...</th>\n",
              "      <td>...</td>\n",
              "      <td>...</td>\n",
              "      <td>...</td>\n",
              "      <td>...</td>\n",
              "      <td>...</td>\n",
              "      <td>...</td>\n",
              "      <td>...</td>\n",
              "      <td>...</td>\n",
              "      <td>...</td>\n",
              "      <td>...</td>\n",
              "      <td>...</td>\n",
              "      <td>...</td>\n",
              "      <td>...</td>\n",
              "      <td>...</td>\n",
              "      <td>...</td>\n",
              "      <td>...</td>\n",
              "      <td>...</td>\n",
              "      <td>...</td>\n",
              "      <td>...</td>\n",
              "      <td>...</td>\n",
              "      <td>...</td>\n",
              "      <td>...</td>\n",
              "      <td>...</td>\n",
              "      <td>...</td>\n",
              "      <td>...</td>\n",
              "      <td>...</td>\n",
              "      <td>...</td>\n",
              "      <td>...</td>\n",
              "      <td>...</td>\n",
              "    </tr>\n",
              "    <tr>\n",
              "      <th>2235</th>\n",
              "      <td>10870</td>\n",
              "      <td>1967</td>\n",
              "      <td>Graduation</td>\n",
              "      <td>Married</td>\n",
              "      <td>61223.0</td>\n",
              "      <td>0</td>\n",
              "      <td>1</td>\n",
              "      <td>13-06-2013</td>\n",
              "      <td>46</td>\n",
              "      <td>709</td>\n",
              "      <td>43</td>\n",
              "      <td>182</td>\n",
              "      <td>42</td>\n",
              "      <td>118</td>\n",
              "      <td>247</td>\n",
              "      <td>2</td>\n",
              "      <td>9</td>\n",
              "      <td>3</td>\n",
              "      <td>4</td>\n",
              "      <td>5</td>\n",
              "      <td>0</td>\n",
              "      <td>0</td>\n",
              "      <td>0</td>\n",
              "      <td>0</td>\n",
              "      <td>0</td>\n",
              "      <td>0</td>\n",
              "      <td>3</td>\n",
              "      <td>11</td>\n",
              "      <td>0</td>\n",
              "    </tr>\n",
              "    <tr>\n",
              "      <th>2236</th>\n",
              "      <td>4001</td>\n",
              "      <td>1946</td>\n",
              "      <td>PhD</td>\n",
              "      <td>Together</td>\n",
              "      <td>64014.0</td>\n",
              "      <td>2</td>\n",
              "      <td>1</td>\n",
              "      <td>10-06-2014</td>\n",
              "      <td>56</td>\n",
              "      <td>406</td>\n",
              "      <td>0</td>\n",
              "      <td>30</td>\n",
              "      <td>0</td>\n",
              "      <td>0</td>\n",
              "      <td>8</td>\n",
              "      <td>7</td>\n",
              "      <td>8</td>\n",
              "      <td>2</td>\n",
              "      <td>5</td>\n",
              "      <td>7</td>\n",
              "      <td>0</td>\n",
              "      <td>0</td>\n",
              "      <td>0</td>\n",
              "      <td>1</td>\n",
              "      <td>0</td>\n",
              "      <td>0</td>\n",
              "      <td>3</td>\n",
              "      <td>11</td>\n",
              "      <td>0</td>\n",
              "    </tr>\n",
              "    <tr>\n",
              "      <th>2237</th>\n",
              "      <td>7270</td>\n",
              "      <td>1981</td>\n",
              "      <td>Graduation</td>\n",
              "      <td>Divorced</td>\n",
              "      <td>56981.0</td>\n",
              "      <td>0</td>\n",
              "      <td>0</td>\n",
              "      <td>25-01-2014</td>\n",
              "      <td>91</td>\n",
              "      <td>908</td>\n",
              "      <td>48</td>\n",
              "      <td>217</td>\n",
              "      <td>32</td>\n",
              "      <td>12</td>\n",
              "      <td>24</td>\n",
              "      <td>1</td>\n",
              "      <td>2</td>\n",
              "      <td>3</td>\n",
              "      <td>13</td>\n",
              "      <td>6</td>\n",
              "      <td>0</td>\n",
              "      <td>1</td>\n",
              "      <td>0</td>\n",
              "      <td>0</td>\n",
              "      <td>0</td>\n",
              "      <td>0</td>\n",
              "      <td>3</td>\n",
              "      <td>11</td>\n",
              "      <td>0</td>\n",
              "    </tr>\n",
              "    <tr>\n",
              "      <th>2238</th>\n",
              "      <td>8235</td>\n",
              "      <td>1956</td>\n",
              "      <td>Master</td>\n",
              "      <td>Together</td>\n",
              "      <td>69245.0</td>\n",
              "      <td>0</td>\n",
              "      <td>1</td>\n",
              "      <td>24-01-2014</td>\n",
              "      <td>8</td>\n",
              "      <td>428</td>\n",
              "      <td>30</td>\n",
              "      <td>214</td>\n",
              "      <td>80</td>\n",
              "      <td>30</td>\n",
              "      <td>61</td>\n",
              "      <td>2</td>\n",
              "      <td>6</td>\n",
              "      <td>5</td>\n",
              "      <td>10</td>\n",
              "      <td>3</td>\n",
              "      <td>0</td>\n",
              "      <td>0</td>\n",
              "      <td>0</td>\n",
              "      <td>0</td>\n",
              "      <td>0</td>\n",
              "      <td>0</td>\n",
              "      <td>3</td>\n",
              "      <td>11</td>\n",
              "      <td>0</td>\n",
              "    </tr>\n",
              "    <tr>\n",
              "      <th>2239</th>\n",
              "      <td>9405</td>\n",
              "      <td>1954</td>\n",
              "      <td>PhD</td>\n",
              "      <td>Married</td>\n",
              "      <td>52869.0</td>\n",
              "      <td>1</td>\n",
              "      <td>1</td>\n",
              "      <td>15-10-2012</td>\n",
              "      <td>40</td>\n",
              "      <td>84</td>\n",
              "      <td>3</td>\n",
              "      <td>61</td>\n",
              "      <td>2</td>\n",
              "      <td>1</td>\n",
              "      <td>21</td>\n",
              "      <td>3</td>\n",
              "      <td>3</td>\n",
              "      <td>1</td>\n",
              "      <td>4</td>\n",
              "      <td>7</td>\n",
              "      <td>0</td>\n",
              "      <td>0</td>\n",
              "      <td>0</td>\n",
              "      <td>0</td>\n",
              "      <td>0</td>\n",
              "      <td>0</td>\n",
              "      <td>3</td>\n",
              "      <td>11</td>\n",
              "      <td>1</td>\n",
              "    </tr>\n",
              "  </tbody>\n",
              "</table>\n",
              "<p>2240 rows × 29 columns</p>\n",
              "</div>\n",
              "      <button class=\"colab-df-convert\" onclick=\"convertToInteractive('df-1f39ed03-bc00-44a0-900f-20ee45672336')\"\n",
              "              title=\"Convert this dataframe to an interactive table.\"\n",
              "              style=\"display:none;\">\n",
              "        \n",
              "  <svg xmlns=\"http://www.w3.org/2000/svg\" height=\"24px\"viewBox=\"0 0 24 24\"\n",
              "       width=\"24px\">\n",
              "    <path d=\"M0 0h24v24H0V0z\" fill=\"none\"/>\n",
              "    <path d=\"M18.56 5.44l.94 2.06.94-2.06 2.06-.94-2.06-.94-.94-2.06-.94 2.06-2.06.94zm-11 1L8.5 8.5l.94-2.06 2.06-.94-2.06-.94L8.5 2.5l-.94 2.06-2.06.94zm10 10l.94 2.06.94-2.06 2.06-.94-2.06-.94-.94-2.06-.94 2.06-2.06.94z\"/><path d=\"M17.41 7.96l-1.37-1.37c-.4-.4-.92-.59-1.43-.59-.52 0-1.04.2-1.43.59L10.3 9.45l-7.72 7.72c-.78.78-.78 2.05 0 2.83L4 21.41c.39.39.9.59 1.41.59.51 0 1.02-.2 1.41-.59l7.78-7.78 2.81-2.81c.8-.78.8-2.07 0-2.86zM5.41 20L4 18.59l7.72-7.72 1.47 1.35L5.41 20z\"/>\n",
              "  </svg>\n",
              "      </button>\n",
              "      \n",
              "  <style>\n",
              "    .colab-df-container {\n",
              "      display:flex;\n",
              "      flex-wrap:wrap;\n",
              "      gap: 12px;\n",
              "    }\n",
              "\n",
              "    .colab-df-convert {\n",
              "      background-color: #E8F0FE;\n",
              "      border: none;\n",
              "      border-radius: 50%;\n",
              "      cursor: pointer;\n",
              "      display: none;\n",
              "      fill: #1967D2;\n",
              "      height: 32px;\n",
              "      padding: 0 0 0 0;\n",
              "      width: 32px;\n",
              "    }\n",
              "\n",
              "    .colab-df-convert:hover {\n",
              "      background-color: #E2EBFA;\n",
              "      box-shadow: 0px 1px 2px rgba(60, 64, 67, 0.3), 0px 1px 3px 1px rgba(60, 64, 67, 0.15);\n",
              "      fill: #174EA6;\n",
              "    }\n",
              "\n",
              "    [theme=dark] .colab-df-convert {\n",
              "      background-color: #3B4455;\n",
              "      fill: #D2E3FC;\n",
              "    }\n",
              "\n",
              "    [theme=dark] .colab-df-convert:hover {\n",
              "      background-color: #434B5C;\n",
              "      box-shadow: 0px 1px 3px 1px rgba(0, 0, 0, 0.15);\n",
              "      filter: drop-shadow(0px 1px 2px rgba(0, 0, 0, 0.3));\n",
              "      fill: #FFFFFF;\n",
              "    }\n",
              "  </style>\n",
              "\n",
              "      <script>\n",
              "        const buttonEl =\n",
              "          document.querySelector('#df-1f39ed03-bc00-44a0-900f-20ee45672336 button.colab-df-convert');\n",
              "        buttonEl.style.display =\n",
              "          google.colab.kernel.accessAllowed ? 'block' : 'none';\n",
              "\n",
              "        async function convertToInteractive(key) {\n",
              "          const element = document.querySelector('#df-1f39ed03-bc00-44a0-900f-20ee45672336');\n",
              "          const dataTable =\n",
              "            await google.colab.kernel.invokeFunction('convertToInteractive',\n",
              "                                                     [key], {});\n",
              "          if (!dataTable) return;\n",
              "\n",
              "          const docLinkHtml = 'Like what you see? Visit the ' +\n",
              "            '<a target=\"_blank\" href=https://colab.research.google.com/notebooks/data_table.ipynb>data table notebook</a>'\n",
              "            + ' to learn more about interactive tables.';\n",
              "          element.innerHTML = '';\n",
              "          dataTable['output_type'] = 'display_data';\n",
              "          await google.colab.output.renderOutput(dataTable, element);\n",
              "          const docLink = document.createElement('div');\n",
              "          docLink.innerHTML = docLinkHtml;\n",
              "          element.appendChild(docLink);\n",
              "        }\n",
              "      </script>\n",
              "    </div>\n",
              "  </div>\n",
              "  "
            ]
          },
          "metadata": {},
          "execution_count": 21
        }
      ]
    },
    {
      "cell_type": "code",
      "source": [
        "# Criar novo index com base no ID\n",
        "df.ID.is_unique"
      ],
      "metadata": {
        "colab": {
          "base_uri": "https://localhost:8080/"
        },
        "id": "Z0M8ZdOgBh9W",
        "outputId": "8f8d7110-c6dc-4261-dd2a-37857c5f395e"
      },
      "execution_count": null,
      "outputs": [
        {
          "output_type": "execute_result",
          "data": {
            "text/plain": [
              "True"
            ]
          },
          "metadata": {},
          "execution_count": 22
        }
      ]
    },
    {
      "cell_type": "code",
      "source": [
        "# Setar ID como rotulo\n",
        "df.set_index('ID',inplace=True)"
      ],
      "metadata": {
        "id": "OmtATtqEvzxc"
      },
      "execution_count": null,
      "outputs": []
    },
    {
      "cell_type": "code",
      "source": [
        "# criar backup\n",
        "dfbackup = df.copy()"
      ],
      "metadata": {
        "id": "IKLLiNr4v_UV"
      },
      "execution_count": null,
      "outputs": []
    },
    {
      "cell_type": "code",
      "source": [
        "# Criar coluna idade\n",
        "df['idade'] = (df['ano_nasc']-2020)*-1"
      ],
      "metadata": {
        "id": "XpOBWyW9bN8b"
      },
      "execution_count": null,
      "outputs": []
    },
    {
      "cell_type": "code",
      "source": [
        "# Criar coluna filhos\n",
        "df['filhos'] = (df['n_criancas'])+(df['n_adolescentes'])"
      ],
      "metadata": {
        "id": "2HhlJNVzw-cR"
      },
      "execution_count": null,
      "outputs": []
    },
    {
      "cell_type": "code",
      "source": [
        "df"
      ],
      "metadata": {
        "colab": {
          "base_uri": "https://localhost:8080/",
          "height": 519
        },
        "id": "b2hwqxkaai2l",
        "outputId": "ac531f7c-04ed-498a-fdee-49c759204393"
      },
      "execution_count": null,
      "outputs": [
        {
          "output_type": "execute_result",
          "data": {
            "text/plain": [
              "       ano_nasc escolaridade estado_civil    renda  n_criancas  \\\n",
              "ID                                                               \n",
              "5524       1957   Graduation       Single  58138.0           0   \n",
              "2174       1954   Graduation       Single  46344.0           1   \n",
              "4141       1965   Graduation     Together  71613.0           0   \n",
              "6182       1984   Graduation     Together  26646.0           1   \n",
              "5324       1981          PhD      Married  58293.0           1   \n",
              "...         ...          ...          ...      ...         ...   \n",
              "10870      1967   Graduation      Married  61223.0           0   \n",
              "4001       1946          PhD     Together  64014.0           2   \n",
              "7270       1981   Graduation     Divorced  56981.0           0   \n",
              "8235       1956       Master     Together  69245.0           0   \n",
              "9405       1954          PhD      Married  52869.0           1   \n",
              "\n",
              "       n_adolescentes dt_cadastro  rfm  vinho  frutas  carne  peixe  doces  \\\n",
              "ID                                                                           \n",
              "5524                0  04-09-2012   58    635      88    546    172     88   \n",
              "2174                1  08-03-2014   38     11       1      6      2      1   \n",
              "4141                0  21-08-2013   26    426      49    127    111     21   \n",
              "6182                0  10-02-2014   26     11       4     20     10      3   \n",
              "5324                0  19-01-2014   94    173      43    118     46     27   \n",
              "...               ...         ...  ...    ...     ...    ...    ...    ...   \n",
              "10870               1  13-06-2013   46    709      43    182     42    118   \n",
              "4001                1  10-06-2014   56    406       0     30      0      0   \n",
              "7270                0  25-01-2014   91    908      48    217     32     12   \n",
              "8235                1  24-01-2014    8    428      30    214     80     30   \n",
              "9405                1  15-10-2012   40     84       3     61      2      1   \n",
              "\n",
              "       prod_premiun  compras_ofertas  compras_web  compras_catalogo  \\\n",
              "ID                                                                    \n",
              "5524             88                3            8                10   \n",
              "2174              6                2            1                 1   \n",
              "4141             42                1            8                 2   \n",
              "6182              5                2            2                 0   \n",
              "5324             15                5            5                 3   \n",
              "...             ...              ...          ...               ...   \n",
              "10870           247                2            9                 3   \n",
              "4001              8                7            8                 2   \n",
              "7270             24                1            2                 3   \n",
              "8235             61                2            6                 5   \n",
              "9405             21                3            3                 1   \n",
              "\n",
              "       compras_loja  media_visitas_site  AcceptedCmp3  AcceptedCmp4  \\\n",
              "ID                                                                    \n",
              "5524              4                   7             0             0   \n",
              "2174              2                   5             0             0   \n",
              "4141             10                   4             0             0   \n",
              "6182              4                   6             0             0   \n",
              "5324              6                   5             0             0   \n",
              "...             ...                 ...           ...           ...   \n",
              "10870             4                   5             0             0   \n",
              "4001              5                   7             0             0   \n",
              "7270             13                   6             0             1   \n",
              "8235             10                   3             0             0   \n",
              "9405              4                   7             0             0   \n",
              "\n",
              "       AcceptedCmp5  AcceptedCmp1  AcceptedCmp2  reclamacoes  custo_contrato  \\\n",
              "ID                                                                             \n",
              "5524              0             0             0            0               3   \n",
              "2174              0             0             0            0               3   \n",
              "4141              0             0             0            0               3   \n",
              "6182              0             0             0            0               3   \n",
              "5324              0             0             0            0               3   \n",
              "...             ...           ...           ...          ...             ...   \n",
              "10870             0             0             0            0               3   \n",
              "4001              0             1             0            0               3   \n",
              "7270              0             0             0            0               3   \n",
              "8235              0             0             0            0               3   \n",
              "9405              0             0             0            0               3   \n",
              "\n",
              "       receita_gerada  Response  idade  filhos  \n",
              "ID                                              \n",
              "5524               11         1     63       0  \n",
              "2174               11         0     66       2  \n",
              "4141               11         0     55       0  \n",
              "6182               11         0     36       1  \n",
              "5324               11         0     39       1  \n",
              "...               ...       ...    ...     ...  \n",
              "10870              11         0     53       1  \n",
              "4001               11         0     74       3  \n",
              "7270               11         0     39       0  \n",
              "8235               11         0     64       1  \n",
              "9405               11         1     66       2  \n",
              "\n",
              "[2240 rows x 30 columns]"
            ],
            "text/html": [
              "\n",
              "  <div id=\"df-fbed586e-9bb4-430f-b69e-9f1d218bf6b6\">\n",
              "    <div class=\"colab-df-container\">\n",
              "      <div>\n",
              "<style scoped>\n",
              "    .dataframe tbody tr th:only-of-type {\n",
              "        vertical-align: middle;\n",
              "    }\n",
              "\n",
              "    .dataframe tbody tr th {\n",
              "        vertical-align: top;\n",
              "    }\n",
              "\n",
              "    .dataframe thead th {\n",
              "        text-align: right;\n",
              "    }\n",
              "</style>\n",
              "<table border=\"1\" class=\"dataframe\">\n",
              "  <thead>\n",
              "    <tr style=\"text-align: right;\">\n",
              "      <th></th>\n",
              "      <th>ano_nasc</th>\n",
              "      <th>escolaridade</th>\n",
              "      <th>estado_civil</th>\n",
              "      <th>renda</th>\n",
              "      <th>n_criancas</th>\n",
              "      <th>n_adolescentes</th>\n",
              "      <th>dt_cadastro</th>\n",
              "      <th>rfm</th>\n",
              "      <th>vinho</th>\n",
              "      <th>frutas</th>\n",
              "      <th>carne</th>\n",
              "      <th>peixe</th>\n",
              "      <th>doces</th>\n",
              "      <th>prod_premiun</th>\n",
              "      <th>compras_ofertas</th>\n",
              "      <th>compras_web</th>\n",
              "      <th>compras_catalogo</th>\n",
              "      <th>compras_loja</th>\n",
              "      <th>media_visitas_site</th>\n",
              "      <th>AcceptedCmp3</th>\n",
              "      <th>AcceptedCmp4</th>\n",
              "      <th>AcceptedCmp5</th>\n",
              "      <th>AcceptedCmp1</th>\n",
              "      <th>AcceptedCmp2</th>\n",
              "      <th>reclamacoes</th>\n",
              "      <th>custo_contrato</th>\n",
              "      <th>receita_gerada</th>\n",
              "      <th>Response</th>\n",
              "      <th>idade</th>\n",
              "      <th>filhos</th>\n",
              "    </tr>\n",
              "    <tr>\n",
              "      <th>ID</th>\n",
              "      <th></th>\n",
              "      <th></th>\n",
              "      <th></th>\n",
              "      <th></th>\n",
              "      <th></th>\n",
              "      <th></th>\n",
              "      <th></th>\n",
              "      <th></th>\n",
              "      <th></th>\n",
              "      <th></th>\n",
              "      <th></th>\n",
              "      <th></th>\n",
              "      <th></th>\n",
              "      <th></th>\n",
              "      <th></th>\n",
              "      <th></th>\n",
              "      <th></th>\n",
              "      <th></th>\n",
              "      <th></th>\n",
              "      <th></th>\n",
              "      <th></th>\n",
              "      <th></th>\n",
              "      <th></th>\n",
              "      <th></th>\n",
              "      <th></th>\n",
              "      <th></th>\n",
              "      <th></th>\n",
              "      <th></th>\n",
              "      <th></th>\n",
              "      <th></th>\n",
              "    </tr>\n",
              "  </thead>\n",
              "  <tbody>\n",
              "    <tr>\n",
              "      <th>5524</th>\n",
              "      <td>1957</td>\n",
              "      <td>Graduation</td>\n",
              "      <td>Single</td>\n",
              "      <td>58138.0</td>\n",
              "      <td>0</td>\n",
              "      <td>0</td>\n",
              "      <td>04-09-2012</td>\n",
              "      <td>58</td>\n",
              "      <td>635</td>\n",
              "      <td>88</td>\n",
              "      <td>546</td>\n",
              "      <td>172</td>\n",
              "      <td>88</td>\n",
              "      <td>88</td>\n",
              "      <td>3</td>\n",
              "      <td>8</td>\n",
              "      <td>10</td>\n",
              "      <td>4</td>\n",
              "      <td>7</td>\n",
              "      <td>0</td>\n",
              "      <td>0</td>\n",
              "      <td>0</td>\n",
              "      <td>0</td>\n",
              "      <td>0</td>\n",
              "      <td>0</td>\n",
              "      <td>3</td>\n",
              "      <td>11</td>\n",
              "      <td>1</td>\n",
              "      <td>63</td>\n",
              "      <td>0</td>\n",
              "    </tr>\n",
              "    <tr>\n",
              "      <th>2174</th>\n",
              "      <td>1954</td>\n",
              "      <td>Graduation</td>\n",
              "      <td>Single</td>\n",
              "      <td>46344.0</td>\n",
              "      <td>1</td>\n",
              "      <td>1</td>\n",
              "      <td>08-03-2014</td>\n",
              "      <td>38</td>\n",
              "      <td>11</td>\n",
              "      <td>1</td>\n",
              "      <td>6</td>\n",
              "      <td>2</td>\n",
              "      <td>1</td>\n",
              "      <td>6</td>\n",
              "      <td>2</td>\n",
              "      <td>1</td>\n",
              "      <td>1</td>\n",
              "      <td>2</td>\n",
              "      <td>5</td>\n",
              "      <td>0</td>\n",
              "      <td>0</td>\n",
              "      <td>0</td>\n",
              "      <td>0</td>\n",
              "      <td>0</td>\n",
              "      <td>0</td>\n",
              "      <td>3</td>\n",
              "      <td>11</td>\n",
              "      <td>0</td>\n",
              "      <td>66</td>\n",
              "      <td>2</td>\n",
              "    </tr>\n",
              "    <tr>\n",
              "      <th>4141</th>\n",
              "      <td>1965</td>\n",
              "      <td>Graduation</td>\n",
              "      <td>Together</td>\n",
              "      <td>71613.0</td>\n",
              "      <td>0</td>\n",
              "      <td>0</td>\n",
              "      <td>21-08-2013</td>\n",
              "      <td>26</td>\n",
              "      <td>426</td>\n",
              "      <td>49</td>\n",
              "      <td>127</td>\n",
              "      <td>111</td>\n",
              "      <td>21</td>\n",
              "      <td>42</td>\n",
              "      <td>1</td>\n",
              "      <td>8</td>\n",
              "      <td>2</td>\n",
              "      <td>10</td>\n",
              "      <td>4</td>\n",
              "      <td>0</td>\n",
              "      <td>0</td>\n",
              "      <td>0</td>\n",
              "      <td>0</td>\n",
              "      <td>0</td>\n",
              "      <td>0</td>\n",
              "      <td>3</td>\n",
              "      <td>11</td>\n",
              "      <td>0</td>\n",
              "      <td>55</td>\n",
              "      <td>0</td>\n",
              "    </tr>\n",
              "    <tr>\n",
              "      <th>6182</th>\n",
              "      <td>1984</td>\n",
              "      <td>Graduation</td>\n",
              "      <td>Together</td>\n",
              "      <td>26646.0</td>\n",
              "      <td>1</td>\n",
              "      <td>0</td>\n",
              "      <td>10-02-2014</td>\n",
              "      <td>26</td>\n",
              "      <td>11</td>\n",
              "      <td>4</td>\n",
              "      <td>20</td>\n",
              "      <td>10</td>\n",
              "      <td>3</td>\n",
              "      <td>5</td>\n",
              "      <td>2</td>\n",
              "      <td>2</td>\n",
              "      <td>0</td>\n",
              "      <td>4</td>\n",
              "      <td>6</td>\n",
              "      <td>0</td>\n",
              "      <td>0</td>\n",
              "      <td>0</td>\n",
              "      <td>0</td>\n",
              "      <td>0</td>\n",
              "      <td>0</td>\n",
              "      <td>3</td>\n",
              "      <td>11</td>\n",
              "      <td>0</td>\n",
              "      <td>36</td>\n",
              "      <td>1</td>\n",
              "    </tr>\n",
              "    <tr>\n",
              "      <th>5324</th>\n",
              "      <td>1981</td>\n",
              "      <td>PhD</td>\n",
              "      <td>Married</td>\n",
              "      <td>58293.0</td>\n",
              "      <td>1</td>\n",
              "      <td>0</td>\n",
              "      <td>19-01-2014</td>\n",
              "      <td>94</td>\n",
              "      <td>173</td>\n",
              "      <td>43</td>\n",
              "      <td>118</td>\n",
              "      <td>46</td>\n",
              "      <td>27</td>\n",
              "      <td>15</td>\n",
              "      <td>5</td>\n",
              "      <td>5</td>\n",
              "      <td>3</td>\n",
              "      <td>6</td>\n",
              "      <td>5</td>\n",
              "      <td>0</td>\n",
              "      <td>0</td>\n",
              "      <td>0</td>\n",
              "      <td>0</td>\n",
              "      <td>0</td>\n",
              "      <td>0</td>\n",
              "      <td>3</td>\n",
              "      <td>11</td>\n",
              "      <td>0</td>\n",
              "      <td>39</td>\n",
              "      <td>1</td>\n",
              "    </tr>\n",
              "    <tr>\n",
              "      <th>...</th>\n",
              "      <td>...</td>\n",
              "      <td>...</td>\n",
              "      <td>...</td>\n",
              "      <td>...</td>\n",
              "      <td>...</td>\n",
              "      <td>...</td>\n",
              "      <td>...</td>\n",
              "      <td>...</td>\n",
              "      <td>...</td>\n",
              "      <td>...</td>\n",
              "      <td>...</td>\n",
              "      <td>...</td>\n",
              "      <td>...</td>\n",
              "      <td>...</td>\n",
              "      <td>...</td>\n",
              "      <td>...</td>\n",
              "      <td>...</td>\n",
              "      <td>...</td>\n",
              "      <td>...</td>\n",
              "      <td>...</td>\n",
              "      <td>...</td>\n",
              "      <td>...</td>\n",
              "      <td>...</td>\n",
              "      <td>...</td>\n",
              "      <td>...</td>\n",
              "      <td>...</td>\n",
              "      <td>...</td>\n",
              "      <td>...</td>\n",
              "      <td>...</td>\n",
              "      <td>...</td>\n",
              "    </tr>\n",
              "    <tr>\n",
              "      <th>10870</th>\n",
              "      <td>1967</td>\n",
              "      <td>Graduation</td>\n",
              "      <td>Married</td>\n",
              "      <td>61223.0</td>\n",
              "      <td>0</td>\n",
              "      <td>1</td>\n",
              "      <td>13-06-2013</td>\n",
              "      <td>46</td>\n",
              "      <td>709</td>\n",
              "      <td>43</td>\n",
              "      <td>182</td>\n",
              "      <td>42</td>\n",
              "      <td>118</td>\n",
              "      <td>247</td>\n",
              "      <td>2</td>\n",
              "      <td>9</td>\n",
              "      <td>3</td>\n",
              "      <td>4</td>\n",
              "      <td>5</td>\n",
              "      <td>0</td>\n",
              "      <td>0</td>\n",
              "      <td>0</td>\n",
              "      <td>0</td>\n",
              "      <td>0</td>\n",
              "      <td>0</td>\n",
              "      <td>3</td>\n",
              "      <td>11</td>\n",
              "      <td>0</td>\n",
              "      <td>53</td>\n",
              "      <td>1</td>\n",
              "    </tr>\n",
              "    <tr>\n",
              "      <th>4001</th>\n",
              "      <td>1946</td>\n",
              "      <td>PhD</td>\n",
              "      <td>Together</td>\n",
              "      <td>64014.0</td>\n",
              "      <td>2</td>\n",
              "      <td>1</td>\n",
              "      <td>10-06-2014</td>\n",
              "      <td>56</td>\n",
              "      <td>406</td>\n",
              "      <td>0</td>\n",
              "      <td>30</td>\n",
              "      <td>0</td>\n",
              "      <td>0</td>\n",
              "      <td>8</td>\n",
              "      <td>7</td>\n",
              "      <td>8</td>\n",
              "      <td>2</td>\n",
              "      <td>5</td>\n",
              "      <td>7</td>\n",
              "      <td>0</td>\n",
              "      <td>0</td>\n",
              "      <td>0</td>\n",
              "      <td>1</td>\n",
              "      <td>0</td>\n",
              "      <td>0</td>\n",
              "      <td>3</td>\n",
              "      <td>11</td>\n",
              "      <td>0</td>\n",
              "      <td>74</td>\n",
              "      <td>3</td>\n",
              "    </tr>\n",
              "    <tr>\n",
              "      <th>7270</th>\n",
              "      <td>1981</td>\n",
              "      <td>Graduation</td>\n",
              "      <td>Divorced</td>\n",
              "      <td>56981.0</td>\n",
              "      <td>0</td>\n",
              "      <td>0</td>\n",
              "      <td>25-01-2014</td>\n",
              "      <td>91</td>\n",
              "      <td>908</td>\n",
              "      <td>48</td>\n",
              "      <td>217</td>\n",
              "      <td>32</td>\n",
              "      <td>12</td>\n",
              "      <td>24</td>\n",
              "      <td>1</td>\n",
              "      <td>2</td>\n",
              "      <td>3</td>\n",
              "      <td>13</td>\n",
              "      <td>6</td>\n",
              "      <td>0</td>\n",
              "      <td>1</td>\n",
              "      <td>0</td>\n",
              "      <td>0</td>\n",
              "      <td>0</td>\n",
              "      <td>0</td>\n",
              "      <td>3</td>\n",
              "      <td>11</td>\n",
              "      <td>0</td>\n",
              "      <td>39</td>\n",
              "      <td>0</td>\n",
              "    </tr>\n",
              "    <tr>\n",
              "      <th>8235</th>\n",
              "      <td>1956</td>\n",
              "      <td>Master</td>\n",
              "      <td>Together</td>\n",
              "      <td>69245.0</td>\n",
              "      <td>0</td>\n",
              "      <td>1</td>\n",
              "      <td>24-01-2014</td>\n",
              "      <td>8</td>\n",
              "      <td>428</td>\n",
              "      <td>30</td>\n",
              "      <td>214</td>\n",
              "      <td>80</td>\n",
              "      <td>30</td>\n",
              "      <td>61</td>\n",
              "      <td>2</td>\n",
              "      <td>6</td>\n",
              "      <td>5</td>\n",
              "      <td>10</td>\n",
              "      <td>3</td>\n",
              "      <td>0</td>\n",
              "      <td>0</td>\n",
              "      <td>0</td>\n",
              "      <td>0</td>\n",
              "      <td>0</td>\n",
              "      <td>0</td>\n",
              "      <td>3</td>\n",
              "      <td>11</td>\n",
              "      <td>0</td>\n",
              "      <td>64</td>\n",
              "      <td>1</td>\n",
              "    </tr>\n",
              "    <tr>\n",
              "      <th>9405</th>\n",
              "      <td>1954</td>\n",
              "      <td>PhD</td>\n",
              "      <td>Married</td>\n",
              "      <td>52869.0</td>\n",
              "      <td>1</td>\n",
              "      <td>1</td>\n",
              "      <td>15-10-2012</td>\n",
              "      <td>40</td>\n",
              "      <td>84</td>\n",
              "      <td>3</td>\n",
              "      <td>61</td>\n",
              "      <td>2</td>\n",
              "      <td>1</td>\n",
              "      <td>21</td>\n",
              "      <td>3</td>\n",
              "      <td>3</td>\n",
              "      <td>1</td>\n",
              "      <td>4</td>\n",
              "      <td>7</td>\n",
              "      <td>0</td>\n",
              "      <td>0</td>\n",
              "      <td>0</td>\n",
              "      <td>0</td>\n",
              "      <td>0</td>\n",
              "      <td>0</td>\n",
              "      <td>3</td>\n",
              "      <td>11</td>\n",
              "      <td>1</td>\n",
              "      <td>66</td>\n",
              "      <td>2</td>\n",
              "    </tr>\n",
              "  </tbody>\n",
              "</table>\n",
              "<p>2240 rows × 30 columns</p>\n",
              "</div>\n",
              "      <button class=\"colab-df-convert\" onclick=\"convertToInteractive('df-fbed586e-9bb4-430f-b69e-9f1d218bf6b6')\"\n",
              "              title=\"Convert this dataframe to an interactive table.\"\n",
              "              style=\"display:none;\">\n",
              "        \n",
              "  <svg xmlns=\"http://www.w3.org/2000/svg\" height=\"24px\"viewBox=\"0 0 24 24\"\n",
              "       width=\"24px\">\n",
              "    <path d=\"M0 0h24v24H0V0z\" fill=\"none\"/>\n",
              "    <path d=\"M18.56 5.44l.94 2.06.94-2.06 2.06-.94-2.06-.94-.94-2.06-.94 2.06-2.06.94zm-11 1L8.5 8.5l.94-2.06 2.06-.94-2.06-.94L8.5 2.5l-.94 2.06-2.06.94zm10 10l.94 2.06.94-2.06 2.06-.94-2.06-.94-.94-2.06-.94 2.06-2.06.94z\"/><path d=\"M17.41 7.96l-1.37-1.37c-.4-.4-.92-.59-1.43-.59-.52 0-1.04.2-1.43.59L10.3 9.45l-7.72 7.72c-.78.78-.78 2.05 0 2.83L4 21.41c.39.39.9.59 1.41.59.51 0 1.02-.2 1.41-.59l7.78-7.78 2.81-2.81c.8-.78.8-2.07 0-2.86zM5.41 20L4 18.59l7.72-7.72 1.47 1.35L5.41 20z\"/>\n",
              "  </svg>\n",
              "      </button>\n",
              "      \n",
              "  <style>\n",
              "    .colab-df-container {\n",
              "      display:flex;\n",
              "      flex-wrap:wrap;\n",
              "      gap: 12px;\n",
              "    }\n",
              "\n",
              "    .colab-df-convert {\n",
              "      background-color: #E8F0FE;\n",
              "      border: none;\n",
              "      border-radius: 50%;\n",
              "      cursor: pointer;\n",
              "      display: none;\n",
              "      fill: #1967D2;\n",
              "      height: 32px;\n",
              "      padding: 0 0 0 0;\n",
              "      width: 32px;\n",
              "    }\n",
              "\n",
              "    .colab-df-convert:hover {\n",
              "      background-color: #E2EBFA;\n",
              "      box-shadow: 0px 1px 2px rgba(60, 64, 67, 0.3), 0px 1px 3px 1px rgba(60, 64, 67, 0.15);\n",
              "      fill: #174EA6;\n",
              "    }\n",
              "\n",
              "    [theme=dark] .colab-df-convert {\n",
              "      background-color: #3B4455;\n",
              "      fill: #D2E3FC;\n",
              "    }\n",
              "\n",
              "    [theme=dark] .colab-df-convert:hover {\n",
              "      background-color: #434B5C;\n",
              "      box-shadow: 0px 1px 3px 1px rgba(0, 0, 0, 0.15);\n",
              "      filter: drop-shadow(0px 1px 2px rgba(0, 0, 0, 0.3));\n",
              "      fill: #FFFFFF;\n",
              "    }\n",
              "  </style>\n",
              "\n",
              "      <script>\n",
              "        const buttonEl =\n",
              "          document.querySelector('#df-fbed586e-9bb4-430f-b69e-9f1d218bf6b6 button.colab-df-convert');\n",
              "        buttonEl.style.display =\n",
              "          google.colab.kernel.accessAllowed ? 'block' : 'none';\n",
              "\n",
              "        async function convertToInteractive(key) {\n",
              "          const element = document.querySelector('#df-fbed586e-9bb4-430f-b69e-9f1d218bf6b6');\n",
              "          const dataTable =\n",
              "            await google.colab.kernel.invokeFunction('convertToInteractive',\n",
              "                                                     [key], {});\n",
              "          if (!dataTable) return;\n",
              "\n",
              "          const docLinkHtml = 'Like what you see? Visit the ' +\n",
              "            '<a target=\"_blank\" href=https://colab.research.google.com/notebooks/data_table.ipynb>data table notebook</a>'\n",
              "            + ' to learn more about interactive tables.';\n",
              "          element.innerHTML = '';\n",
              "          dataTable['output_type'] = 'display_data';\n",
              "          await google.colab.output.renderOutput(dataTable, element);\n",
              "          const docLink = document.createElement('div');\n",
              "          docLink.innerHTML = docLinkHtml;\n",
              "          element.appendChild(docLink);\n",
              "        }\n",
              "      </script>\n",
              "    </div>\n",
              "  </div>\n",
              "  "
            ]
          },
          "metadata": {},
          "execution_count": 27
        }
      ]
    },
    {
      "cell_type": "code",
      "source": [
        "#Verificar dados Nulos , ausentes , etc\n",
        "df.isna().sum()"
      ],
      "metadata": {
        "id": "l32F0tBowNQj",
        "colab": {
          "base_uri": "https://localhost:8080/"
        },
        "outputId": "660f061a-c478-4629-e887-dfa15356bae9"
      },
      "execution_count": null,
      "outputs": [
        {
          "output_type": "execute_result",
          "data": {
            "text/plain": [
              "ano_nasc               0\n",
              "escolaridade           0\n",
              "estado_civil           0\n",
              "renda                 24\n",
              "n_criancas             0\n",
              "n_adolescentes         0\n",
              "dt_cadastro            0\n",
              "rfm                    0\n",
              "vinho                  0\n",
              "frutas                 0\n",
              "carne                  0\n",
              "peixe                  0\n",
              "doces                  0\n",
              "prod_premiun           0\n",
              "compras_ofertas        0\n",
              "compras_web            0\n",
              "compras_catalogo       0\n",
              "compras_loja           0\n",
              "media_visitas_site     0\n",
              "AcceptedCmp3           0\n",
              "AcceptedCmp4           0\n",
              "AcceptedCmp5           0\n",
              "AcceptedCmp1           0\n",
              "AcceptedCmp2           0\n",
              "reclamacoes            0\n",
              "custo_contrato         0\n",
              "receita_gerada         0\n",
              "Response               0\n",
              "idade                  0\n",
              "filhos                 0\n",
              "dtype: int64"
            ]
          },
          "metadata": {},
          "execution_count": 29
        }
      ]
    },
    {
      "cell_type": "code",
      "source": [
        "pd.unique(df['escolaridade'])"
      ],
      "metadata": {
        "colab": {
          "base_uri": "https://localhost:8080/"
        },
        "id": "6S8ie98GwYfy",
        "outputId": "b3d09527-1af4-48fa-a249-a05ec7475be6"
      },
      "execution_count": null,
      "outputs": [
        {
          "output_type": "execute_result",
          "data": {
            "text/plain": [
              "array(['Graduation', 'PhD', 'Master', 'Basic', '2n Cycle'], dtype=object)"
            ]
          },
          "metadata": {},
          "execution_count": 30
        }
      ]
    },
    {
      "cell_type": "code",
      "source": [
        "# separar por geração\n",
        "geracaobb = (df['idade'] <= 74) & (df['idade'] >= 56 )\n",
        "geracaox = (df['ano_nasc'] <= 1980) & (df['ano_nasc'] >= 1965 )\n",
        "geracaoy = (df['ano_nasc'] <= 1996) & (df['ano_nasc'] >= 1981 )\n",
        "geracaoz = (df['ano_nasc'] <= 2010) & (df['ano_nasc'] >= 1997 )"
      ],
      "metadata": {
        "id": "xyojSMCw8mqY"
      },
      "execution_count": null,
      "outputs": []
    },
    {
      "cell_type": "markdown",
      "source": [
        "##Tradução de dados"
      ],
      "metadata": {
        "id": "_y8P-dIE73CU"
      }
    },
    {
      "cell_type": "code",
      "source": [
        "# continuar tradução de dados\n",
        "df.loc[df.escolaridade == 'Graduation',['escolaridade']] = 'GRADUAÇÃO'\n",
        "df.loc[df.escolaridade == 'PhD',['escolaridade']] = 'PHD'\n",
        "df.loc[df.escolaridade == 'Master',['escolaridade']] = 'MESTRADO'\n",
        "df.loc[df.escolaridade == 'Basic',['escolaridade']] = 'ENS_FUND'\n",
        "df.loc[df.escolaridade == '2n Cycle',['escolaridade']] = 'ENS_MEDIO'"
      ],
      "metadata": {
        "id": "fPERtW6KwdtH"
      },
      "execution_count": null,
      "outputs": []
    },
    {
      "cell_type": "code",
      "source": [
        "pd.unique(df['estado_civil'])"
      ],
      "metadata": {
        "colab": {
          "base_uri": "https://localhost:8080/"
        },
        "id": "OAF9xiPzwhCp",
        "outputId": "c7b08f2a-cb33-44e5-abf6-27713d7ce190"
      },
      "execution_count": null,
      "outputs": [
        {
          "output_type": "execute_result",
          "data": {
            "text/plain": [
              "array(['Single', 'Together', 'Married', 'Divorced', 'Widow', 'Alone',\n",
              "       'Absurd', 'YOLO'], dtype=object)"
            ]
          },
          "metadata": {},
          "execution_count": 33
        }
      ]
    },
    {
      "cell_type": "code",
      "source": [
        "# continuar tradução de dados\n",
        "df.loc[df.estado_civil == 'Single',['estado_civil']] = 'SOLTEIRO(A)'\n",
        "df.loc[df.estado_civil == 'Together',['estado_civil']] = 'MORA_JUNTOS'\n",
        "df.loc[df.estado_civil == 'Married',['estado_civil']] = 'CASADO(A)'\n",
        "df.loc[df.estado_civil == 'Divorced',['estado_civil']] = 'DIVORSIADO(A)'\n",
        "df.loc[df.estado_civil == 'Widow',['estado_civil']] = 'VIUVO(A)'\n",
        "df.loc[df.estado_civil == 'Alone',['estado_civil']] = 'SOZINHO'\n",
        "df.loc[df.estado_civil == 'Absurd',['estado_civil']] = 'ABSURD'\n",
        "df.loc[df.estado_civil == 'YOLO',['estado_civil']] = 'YOLO'"
      ],
      "metadata": {
        "id": "bvc_g23Pwllf"
      },
      "execution_count": null,
      "outputs": []
    },
    {
      "cell_type": "code",
      "source": [
        "dfbackup2 = df.copy()"
      ],
      "metadata": {
        "id": "qiwCQcQcwpMX"
      },
      "execution_count": null,
      "outputs": []
    },
    {
      "cell_type": "code",
      "source": [
        "df"
      ],
      "metadata": {
        "colab": {
          "base_uri": "https://localhost:8080/",
          "height": 519
        },
        "id": "8IZGl_BowwE6",
        "outputId": "9ac80767-2ccc-4556-ee93-df7352b33641"
      },
      "execution_count": null,
      "outputs": [
        {
          "output_type": "execute_result",
          "data": {
            "text/plain": [
              "       ano_nasc escolaridade   estado_civil    renda  n_criancas  \\\n",
              "ID                                                                 \n",
              "5524       1957    GRADUAÇÃO    SOLTEIRO(A)  58138.0           0   \n",
              "2174       1954    GRADUAÇÃO    SOLTEIRO(A)  46344.0           1   \n",
              "4141       1965    GRADUAÇÃO    MORA_JUNTOS  71613.0           0   \n",
              "6182       1984    GRADUAÇÃO    MORA_JUNTOS  26646.0           1   \n",
              "5324       1981          PHD      CASADO(A)  58293.0           1   \n",
              "...         ...          ...            ...      ...         ...   \n",
              "10870      1967    GRADUAÇÃO      CASADO(A)  61223.0           0   \n",
              "4001       1946          PHD    MORA_JUNTOS  64014.0           2   \n",
              "7270       1981    GRADUAÇÃO  DIVORSIADO(A)  56981.0           0   \n",
              "8235       1956     MESTRADO    MORA_JUNTOS  69245.0           0   \n",
              "9405       1954          PHD      CASADO(A)  52869.0           1   \n",
              "\n",
              "       n_adolescentes dt_cadastro  rfm  vinho  frutas  carne  peixe  doces  \\\n",
              "ID                                                                           \n",
              "5524                0  04-09-2012   58    635      88    546    172     88   \n",
              "2174                1  08-03-2014   38     11       1      6      2      1   \n",
              "4141                0  21-08-2013   26    426      49    127    111     21   \n",
              "6182                0  10-02-2014   26     11       4     20     10      3   \n",
              "5324                0  19-01-2014   94    173      43    118     46     27   \n",
              "...               ...         ...  ...    ...     ...    ...    ...    ...   \n",
              "10870               1  13-06-2013   46    709      43    182     42    118   \n",
              "4001                1  10-06-2014   56    406       0     30      0      0   \n",
              "7270                0  25-01-2014   91    908      48    217     32     12   \n",
              "8235                1  24-01-2014    8    428      30    214     80     30   \n",
              "9405                1  15-10-2012   40     84       3     61      2      1   \n",
              "\n",
              "       prod_premiun  compras_ofertas  compras_web  compras_catalogo  \\\n",
              "ID                                                                    \n",
              "5524             88                3            8                10   \n",
              "2174              6                2            1                 1   \n",
              "4141             42                1            8                 2   \n",
              "6182              5                2            2                 0   \n",
              "5324             15                5            5                 3   \n",
              "...             ...              ...          ...               ...   \n",
              "10870           247                2            9                 3   \n",
              "4001              8                7            8                 2   \n",
              "7270             24                1            2                 3   \n",
              "8235             61                2            6                 5   \n",
              "9405             21                3            3                 1   \n",
              "\n",
              "       compras_loja  media_visitas_site  AcceptedCmp3  AcceptedCmp4  \\\n",
              "ID                                                                    \n",
              "5524              4                   7             0             0   \n",
              "2174              2                   5             0             0   \n",
              "4141             10                   4             0             0   \n",
              "6182              4                   6             0             0   \n",
              "5324              6                   5             0             0   \n",
              "...             ...                 ...           ...           ...   \n",
              "10870             4                   5             0             0   \n",
              "4001              5                   7             0             0   \n",
              "7270             13                   6             0             1   \n",
              "8235             10                   3             0             0   \n",
              "9405              4                   7             0             0   \n",
              "\n",
              "       AcceptedCmp5  AcceptedCmp1  AcceptedCmp2  reclamacoes  custo_contrato  \\\n",
              "ID                                                                             \n",
              "5524              0             0             0            0               3   \n",
              "2174              0             0             0            0               3   \n",
              "4141              0             0             0            0               3   \n",
              "6182              0             0             0            0               3   \n",
              "5324              0             0             0            0               3   \n",
              "...             ...           ...           ...          ...             ...   \n",
              "10870             0             0             0            0               3   \n",
              "4001              0             1             0            0               3   \n",
              "7270              0             0             0            0               3   \n",
              "8235              0             0             0            0               3   \n",
              "9405              0             0             0            0               3   \n",
              "\n",
              "       receita_gerada  Response  idade  filhos  \n",
              "ID                                              \n",
              "5524               11         1     63       0  \n",
              "2174               11         0     66       2  \n",
              "4141               11         0     55       0  \n",
              "6182               11         0     36       1  \n",
              "5324               11         0     39       1  \n",
              "...               ...       ...    ...     ...  \n",
              "10870              11         0     53       1  \n",
              "4001               11         0     74       3  \n",
              "7270               11         0     39       0  \n",
              "8235               11         0     64       1  \n",
              "9405               11         1     66       2  \n",
              "\n",
              "[2240 rows x 30 columns]"
            ],
            "text/html": [
              "\n",
              "  <div id=\"df-83a38fb0-5674-433d-9288-6ab236057cb9\">\n",
              "    <div class=\"colab-df-container\">\n",
              "      <div>\n",
              "<style scoped>\n",
              "    .dataframe tbody tr th:only-of-type {\n",
              "        vertical-align: middle;\n",
              "    }\n",
              "\n",
              "    .dataframe tbody tr th {\n",
              "        vertical-align: top;\n",
              "    }\n",
              "\n",
              "    .dataframe thead th {\n",
              "        text-align: right;\n",
              "    }\n",
              "</style>\n",
              "<table border=\"1\" class=\"dataframe\">\n",
              "  <thead>\n",
              "    <tr style=\"text-align: right;\">\n",
              "      <th></th>\n",
              "      <th>ano_nasc</th>\n",
              "      <th>escolaridade</th>\n",
              "      <th>estado_civil</th>\n",
              "      <th>renda</th>\n",
              "      <th>n_criancas</th>\n",
              "      <th>n_adolescentes</th>\n",
              "      <th>dt_cadastro</th>\n",
              "      <th>rfm</th>\n",
              "      <th>vinho</th>\n",
              "      <th>frutas</th>\n",
              "      <th>carne</th>\n",
              "      <th>peixe</th>\n",
              "      <th>doces</th>\n",
              "      <th>prod_premiun</th>\n",
              "      <th>compras_ofertas</th>\n",
              "      <th>compras_web</th>\n",
              "      <th>compras_catalogo</th>\n",
              "      <th>compras_loja</th>\n",
              "      <th>media_visitas_site</th>\n",
              "      <th>AcceptedCmp3</th>\n",
              "      <th>AcceptedCmp4</th>\n",
              "      <th>AcceptedCmp5</th>\n",
              "      <th>AcceptedCmp1</th>\n",
              "      <th>AcceptedCmp2</th>\n",
              "      <th>reclamacoes</th>\n",
              "      <th>custo_contrato</th>\n",
              "      <th>receita_gerada</th>\n",
              "      <th>Response</th>\n",
              "      <th>idade</th>\n",
              "      <th>filhos</th>\n",
              "    </tr>\n",
              "    <tr>\n",
              "      <th>ID</th>\n",
              "      <th></th>\n",
              "      <th></th>\n",
              "      <th></th>\n",
              "      <th></th>\n",
              "      <th></th>\n",
              "      <th></th>\n",
              "      <th></th>\n",
              "      <th></th>\n",
              "      <th></th>\n",
              "      <th></th>\n",
              "      <th></th>\n",
              "      <th></th>\n",
              "      <th></th>\n",
              "      <th></th>\n",
              "      <th></th>\n",
              "      <th></th>\n",
              "      <th></th>\n",
              "      <th></th>\n",
              "      <th></th>\n",
              "      <th></th>\n",
              "      <th></th>\n",
              "      <th></th>\n",
              "      <th></th>\n",
              "      <th></th>\n",
              "      <th></th>\n",
              "      <th></th>\n",
              "      <th></th>\n",
              "      <th></th>\n",
              "      <th></th>\n",
              "      <th></th>\n",
              "    </tr>\n",
              "  </thead>\n",
              "  <tbody>\n",
              "    <tr>\n",
              "      <th>5524</th>\n",
              "      <td>1957</td>\n",
              "      <td>GRADUAÇÃO</td>\n",
              "      <td>SOLTEIRO(A)</td>\n",
              "      <td>58138.0</td>\n",
              "      <td>0</td>\n",
              "      <td>0</td>\n",
              "      <td>04-09-2012</td>\n",
              "      <td>58</td>\n",
              "      <td>635</td>\n",
              "      <td>88</td>\n",
              "      <td>546</td>\n",
              "      <td>172</td>\n",
              "      <td>88</td>\n",
              "      <td>88</td>\n",
              "      <td>3</td>\n",
              "      <td>8</td>\n",
              "      <td>10</td>\n",
              "      <td>4</td>\n",
              "      <td>7</td>\n",
              "      <td>0</td>\n",
              "      <td>0</td>\n",
              "      <td>0</td>\n",
              "      <td>0</td>\n",
              "      <td>0</td>\n",
              "      <td>0</td>\n",
              "      <td>3</td>\n",
              "      <td>11</td>\n",
              "      <td>1</td>\n",
              "      <td>63</td>\n",
              "      <td>0</td>\n",
              "    </tr>\n",
              "    <tr>\n",
              "      <th>2174</th>\n",
              "      <td>1954</td>\n",
              "      <td>GRADUAÇÃO</td>\n",
              "      <td>SOLTEIRO(A)</td>\n",
              "      <td>46344.0</td>\n",
              "      <td>1</td>\n",
              "      <td>1</td>\n",
              "      <td>08-03-2014</td>\n",
              "      <td>38</td>\n",
              "      <td>11</td>\n",
              "      <td>1</td>\n",
              "      <td>6</td>\n",
              "      <td>2</td>\n",
              "      <td>1</td>\n",
              "      <td>6</td>\n",
              "      <td>2</td>\n",
              "      <td>1</td>\n",
              "      <td>1</td>\n",
              "      <td>2</td>\n",
              "      <td>5</td>\n",
              "      <td>0</td>\n",
              "      <td>0</td>\n",
              "      <td>0</td>\n",
              "      <td>0</td>\n",
              "      <td>0</td>\n",
              "      <td>0</td>\n",
              "      <td>3</td>\n",
              "      <td>11</td>\n",
              "      <td>0</td>\n",
              "      <td>66</td>\n",
              "      <td>2</td>\n",
              "    </tr>\n",
              "    <tr>\n",
              "      <th>4141</th>\n",
              "      <td>1965</td>\n",
              "      <td>GRADUAÇÃO</td>\n",
              "      <td>MORA_JUNTOS</td>\n",
              "      <td>71613.0</td>\n",
              "      <td>0</td>\n",
              "      <td>0</td>\n",
              "      <td>21-08-2013</td>\n",
              "      <td>26</td>\n",
              "      <td>426</td>\n",
              "      <td>49</td>\n",
              "      <td>127</td>\n",
              "      <td>111</td>\n",
              "      <td>21</td>\n",
              "      <td>42</td>\n",
              "      <td>1</td>\n",
              "      <td>8</td>\n",
              "      <td>2</td>\n",
              "      <td>10</td>\n",
              "      <td>4</td>\n",
              "      <td>0</td>\n",
              "      <td>0</td>\n",
              "      <td>0</td>\n",
              "      <td>0</td>\n",
              "      <td>0</td>\n",
              "      <td>0</td>\n",
              "      <td>3</td>\n",
              "      <td>11</td>\n",
              "      <td>0</td>\n",
              "      <td>55</td>\n",
              "      <td>0</td>\n",
              "    </tr>\n",
              "    <tr>\n",
              "      <th>6182</th>\n",
              "      <td>1984</td>\n",
              "      <td>GRADUAÇÃO</td>\n",
              "      <td>MORA_JUNTOS</td>\n",
              "      <td>26646.0</td>\n",
              "      <td>1</td>\n",
              "      <td>0</td>\n",
              "      <td>10-02-2014</td>\n",
              "      <td>26</td>\n",
              "      <td>11</td>\n",
              "      <td>4</td>\n",
              "      <td>20</td>\n",
              "      <td>10</td>\n",
              "      <td>3</td>\n",
              "      <td>5</td>\n",
              "      <td>2</td>\n",
              "      <td>2</td>\n",
              "      <td>0</td>\n",
              "      <td>4</td>\n",
              "      <td>6</td>\n",
              "      <td>0</td>\n",
              "      <td>0</td>\n",
              "      <td>0</td>\n",
              "      <td>0</td>\n",
              "      <td>0</td>\n",
              "      <td>0</td>\n",
              "      <td>3</td>\n",
              "      <td>11</td>\n",
              "      <td>0</td>\n",
              "      <td>36</td>\n",
              "      <td>1</td>\n",
              "    </tr>\n",
              "    <tr>\n",
              "      <th>5324</th>\n",
              "      <td>1981</td>\n",
              "      <td>PHD</td>\n",
              "      <td>CASADO(A)</td>\n",
              "      <td>58293.0</td>\n",
              "      <td>1</td>\n",
              "      <td>0</td>\n",
              "      <td>19-01-2014</td>\n",
              "      <td>94</td>\n",
              "      <td>173</td>\n",
              "      <td>43</td>\n",
              "      <td>118</td>\n",
              "      <td>46</td>\n",
              "      <td>27</td>\n",
              "      <td>15</td>\n",
              "      <td>5</td>\n",
              "      <td>5</td>\n",
              "      <td>3</td>\n",
              "      <td>6</td>\n",
              "      <td>5</td>\n",
              "      <td>0</td>\n",
              "      <td>0</td>\n",
              "      <td>0</td>\n",
              "      <td>0</td>\n",
              "      <td>0</td>\n",
              "      <td>0</td>\n",
              "      <td>3</td>\n",
              "      <td>11</td>\n",
              "      <td>0</td>\n",
              "      <td>39</td>\n",
              "      <td>1</td>\n",
              "    </tr>\n",
              "    <tr>\n",
              "      <th>...</th>\n",
              "      <td>...</td>\n",
              "      <td>...</td>\n",
              "      <td>...</td>\n",
              "      <td>...</td>\n",
              "      <td>...</td>\n",
              "      <td>...</td>\n",
              "      <td>...</td>\n",
              "      <td>...</td>\n",
              "      <td>...</td>\n",
              "      <td>...</td>\n",
              "      <td>...</td>\n",
              "      <td>...</td>\n",
              "      <td>...</td>\n",
              "      <td>...</td>\n",
              "      <td>...</td>\n",
              "      <td>...</td>\n",
              "      <td>...</td>\n",
              "      <td>...</td>\n",
              "      <td>...</td>\n",
              "      <td>...</td>\n",
              "      <td>...</td>\n",
              "      <td>...</td>\n",
              "      <td>...</td>\n",
              "      <td>...</td>\n",
              "      <td>...</td>\n",
              "      <td>...</td>\n",
              "      <td>...</td>\n",
              "      <td>...</td>\n",
              "      <td>...</td>\n",
              "      <td>...</td>\n",
              "    </tr>\n",
              "    <tr>\n",
              "      <th>10870</th>\n",
              "      <td>1967</td>\n",
              "      <td>GRADUAÇÃO</td>\n",
              "      <td>CASADO(A)</td>\n",
              "      <td>61223.0</td>\n",
              "      <td>0</td>\n",
              "      <td>1</td>\n",
              "      <td>13-06-2013</td>\n",
              "      <td>46</td>\n",
              "      <td>709</td>\n",
              "      <td>43</td>\n",
              "      <td>182</td>\n",
              "      <td>42</td>\n",
              "      <td>118</td>\n",
              "      <td>247</td>\n",
              "      <td>2</td>\n",
              "      <td>9</td>\n",
              "      <td>3</td>\n",
              "      <td>4</td>\n",
              "      <td>5</td>\n",
              "      <td>0</td>\n",
              "      <td>0</td>\n",
              "      <td>0</td>\n",
              "      <td>0</td>\n",
              "      <td>0</td>\n",
              "      <td>0</td>\n",
              "      <td>3</td>\n",
              "      <td>11</td>\n",
              "      <td>0</td>\n",
              "      <td>53</td>\n",
              "      <td>1</td>\n",
              "    </tr>\n",
              "    <tr>\n",
              "      <th>4001</th>\n",
              "      <td>1946</td>\n",
              "      <td>PHD</td>\n",
              "      <td>MORA_JUNTOS</td>\n",
              "      <td>64014.0</td>\n",
              "      <td>2</td>\n",
              "      <td>1</td>\n",
              "      <td>10-06-2014</td>\n",
              "      <td>56</td>\n",
              "      <td>406</td>\n",
              "      <td>0</td>\n",
              "      <td>30</td>\n",
              "      <td>0</td>\n",
              "      <td>0</td>\n",
              "      <td>8</td>\n",
              "      <td>7</td>\n",
              "      <td>8</td>\n",
              "      <td>2</td>\n",
              "      <td>5</td>\n",
              "      <td>7</td>\n",
              "      <td>0</td>\n",
              "      <td>0</td>\n",
              "      <td>0</td>\n",
              "      <td>1</td>\n",
              "      <td>0</td>\n",
              "      <td>0</td>\n",
              "      <td>3</td>\n",
              "      <td>11</td>\n",
              "      <td>0</td>\n",
              "      <td>74</td>\n",
              "      <td>3</td>\n",
              "    </tr>\n",
              "    <tr>\n",
              "      <th>7270</th>\n",
              "      <td>1981</td>\n",
              "      <td>GRADUAÇÃO</td>\n",
              "      <td>DIVORSIADO(A)</td>\n",
              "      <td>56981.0</td>\n",
              "      <td>0</td>\n",
              "      <td>0</td>\n",
              "      <td>25-01-2014</td>\n",
              "      <td>91</td>\n",
              "      <td>908</td>\n",
              "      <td>48</td>\n",
              "      <td>217</td>\n",
              "      <td>32</td>\n",
              "      <td>12</td>\n",
              "      <td>24</td>\n",
              "      <td>1</td>\n",
              "      <td>2</td>\n",
              "      <td>3</td>\n",
              "      <td>13</td>\n",
              "      <td>6</td>\n",
              "      <td>0</td>\n",
              "      <td>1</td>\n",
              "      <td>0</td>\n",
              "      <td>0</td>\n",
              "      <td>0</td>\n",
              "      <td>0</td>\n",
              "      <td>3</td>\n",
              "      <td>11</td>\n",
              "      <td>0</td>\n",
              "      <td>39</td>\n",
              "      <td>0</td>\n",
              "    </tr>\n",
              "    <tr>\n",
              "      <th>8235</th>\n",
              "      <td>1956</td>\n",
              "      <td>MESTRADO</td>\n",
              "      <td>MORA_JUNTOS</td>\n",
              "      <td>69245.0</td>\n",
              "      <td>0</td>\n",
              "      <td>1</td>\n",
              "      <td>24-01-2014</td>\n",
              "      <td>8</td>\n",
              "      <td>428</td>\n",
              "      <td>30</td>\n",
              "      <td>214</td>\n",
              "      <td>80</td>\n",
              "      <td>30</td>\n",
              "      <td>61</td>\n",
              "      <td>2</td>\n",
              "      <td>6</td>\n",
              "      <td>5</td>\n",
              "      <td>10</td>\n",
              "      <td>3</td>\n",
              "      <td>0</td>\n",
              "      <td>0</td>\n",
              "      <td>0</td>\n",
              "      <td>0</td>\n",
              "      <td>0</td>\n",
              "      <td>0</td>\n",
              "      <td>3</td>\n",
              "      <td>11</td>\n",
              "      <td>0</td>\n",
              "      <td>64</td>\n",
              "      <td>1</td>\n",
              "    </tr>\n",
              "    <tr>\n",
              "      <th>9405</th>\n",
              "      <td>1954</td>\n",
              "      <td>PHD</td>\n",
              "      <td>CASADO(A)</td>\n",
              "      <td>52869.0</td>\n",
              "      <td>1</td>\n",
              "      <td>1</td>\n",
              "      <td>15-10-2012</td>\n",
              "      <td>40</td>\n",
              "      <td>84</td>\n",
              "      <td>3</td>\n",
              "      <td>61</td>\n",
              "      <td>2</td>\n",
              "      <td>1</td>\n",
              "      <td>21</td>\n",
              "      <td>3</td>\n",
              "      <td>3</td>\n",
              "      <td>1</td>\n",
              "      <td>4</td>\n",
              "      <td>7</td>\n",
              "      <td>0</td>\n",
              "      <td>0</td>\n",
              "      <td>0</td>\n",
              "      <td>0</td>\n",
              "      <td>0</td>\n",
              "      <td>0</td>\n",
              "      <td>3</td>\n",
              "      <td>11</td>\n",
              "      <td>1</td>\n",
              "      <td>66</td>\n",
              "      <td>2</td>\n",
              "    </tr>\n",
              "  </tbody>\n",
              "</table>\n",
              "<p>2240 rows × 30 columns</p>\n",
              "</div>\n",
              "      <button class=\"colab-df-convert\" onclick=\"convertToInteractive('df-83a38fb0-5674-433d-9288-6ab236057cb9')\"\n",
              "              title=\"Convert this dataframe to an interactive table.\"\n",
              "              style=\"display:none;\">\n",
              "        \n",
              "  <svg xmlns=\"http://www.w3.org/2000/svg\" height=\"24px\"viewBox=\"0 0 24 24\"\n",
              "       width=\"24px\">\n",
              "    <path d=\"M0 0h24v24H0V0z\" fill=\"none\"/>\n",
              "    <path d=\"M18.56 5.44l.94 2.06.94-2.06 2.06-.94-2.06-.94-.94-2.06-.94 2.06-2.06.94zm-11 1L8.5 8.5l.94-2.06 2.06-.94-2.06-.94L8.5 2.5l-.94 2.06-2.06.94zm10 10l.94 2.06.94-2.06 2.06-.94-2.06-.94-.94-2.06-.94 2.06-2.06.94z\"/><path d=\"M17.41 7.96l-1.37-1.37c-.4-.4-.92-.59-1.43-.59-.52 0-1.04.2-1.43.59L10.3 9.45l-7.72 7.72c-.78.78-.78 2.05 0 2.83L4 21.41c.39.39.9.59 1.41.59.51 0 1.02-.2 1.41-.59l7.78-7.78 2.81-2.81c.8-.78.8-2.07 0-2.86zM5.41 20L4 18.59l7.72-7.72 1.47 1.35L5.41 20z\"/>\n",
              "  </svg>\n",
              "      </button>\n",
              "      \n",
              "  <style>\n",
              "    .colab-df-container {\n",
              "      display:flex;\n",
              "      flex-wrap:wrap;\n",
              "      gap: 12px;\n",
              "    }\n",
              "\n",
              "    .colab-df-convert {\n",
              "      background-color: #E8F0FE;\n",
              "      border: none;\n",
              "      border-radius: 50%;\n",
              "      cursor: pointer;\n",
              "      display: none;\n",
              "      fill: #1967D2;\n",
              "      height: 32px;\n",
              "      padding: 0 0 0 0;\n",
              "      width: 32px;\n",
              "    }\n",
              "\n",
              "    .colab-df-convert:hover {\n",
              "      background-color: #E2EBFA;\n",
              "      box-shadow: 0px 1px 2px rgba(60, 64, 67, 0.3), 0px 1px 3px 1px rgba(60, 64, 67, 0.15);\n",
              "      fill: #174EA6;\n",
              "    }\n",
              "\n",
              "    [theme=dark] .colab-df-convert {\n",
              "      background-color: #3B4455;\n",
              "      fill: #D2E3FC;\n",
              "    }\n",
              "\n",
              "    [theme=dark] .colab-df-convert:hover {\n",
              "      background-color: #434B5C;\n",
              "      box-shadow: 0px 1px 3px 1px rgba(0, 0, 0, 0.15);\n",
              "      filter: drop-shadow(0px 1px 2px rgba(0, 0, 0, 0.3));\n",
              "      fill: #FFFFFF;\n",
              "    }\n",
              "  </style>\n",
              "\n",
              "      <script>\n",
              "        const buttonEl =\n",
              "          document.querySelector('#df-83a38fb0-5674-433d-9288-6ab236057cb9 button.colab-df-convert');\n",
              "        buttonEl.style.display =\n",
              "          google.colab.kernel.accessAllowed ? 'block' : 'none';\n",
              "\n",
              "        async function convertToInteractive(key) {\n",
              "          const element = document.querySelector('#df-83a38fb0-5674-433d-9288-6ab236057cb9');\n",
              "          const dataTable =\n",
              "            await google.colab.kernel.invokeFunction('convertToInteractive',\n",
              "                                                     [key], {});\n",
              "          if (!dataTable) return;\n",
              "\n",
              "          const docLinkHtml = 'Like what you see? Visit the ' +\n",
              "            '<a target=\"_blank\" href=https://colab.research.google.com/notebooks/data_table.ipynb>data table notebook</a>'\n",
              "            + ' to learn more about interactive tables.';\n",
              "          element.innerHTML = '';\n",
              "          dataTable['output_type'] = 'display_data';\n",
              "          await google.colab.output.renderOutput(dataTable, element);\n",
              "          const docLink = document.createElement('div');\n",
              "          docLink.innerHTML = docLinkHtml;\n",
              "          element.appendChild(docLink);\n",
              "        }\n",
              "      </script>\n",
              "    </div>\n",
              "  </div>\n",
              "  "
            ]
          },
          "metadata": {},
          "execution_count": 36
        }
      ]
    },
    {
      "cell_type": "code",
      "source": [
        "df.dtypes"
      ],
      "metadata": {
        "colab": {
          "base_uri": "https://localhost:8080/"
        },
        "id": "E2FoiceZxXvS",
        "outputId": "c6cd5fea-3677-4a42-996d-11cc6ea94880"
      },
      "execution_count": null,
      "outputs": [
        {
          "output_type": "execute_result",
          "data": {
            "text/plain": [
              "ano_nasc                int64\n",
              "escolaridade           object\n",
              "estado_civil           object\n",
              "renda                 float64\n",
              "n_criancas              int64\n",
              "n_adolescentes          int64\n",
              "dt_cadastro            object\n",
              "rfm                     int64\n",
              "vinho                   int64\n",
              "frutas                  int64\n",
              "carne                   int64\n",
              "peixe                   int64\n",
              "doces                   int64\n",
              "prod_premiun            int64\n",
              "compras_ofertas         int64\n",
              "compras_web             int64\n",
              "compras_catalogo        int64\n",
              "compras_loja            int64\n",
              "media_visitas_site      int64\n",
              "AcceptedCmp3            int64\n",
              "AcceptedCmp4            int64\n",
              "AcceptedCmp5            int64\n",
              "AcceptedCmp1            int64\n",
              "AcceptedCmp2            int64\n",
              "reclamacoes             int64\n",
              "custo_contrato          int64\n",
              "receita_gerada          int64\n",
              "Response                int64\n",
              "idade                   int64\n",
              "filhos                  int64\n",
              "dtype: object"
            ]
          },
          "metadata": {},
          "execution_count": 37
        }
      ]
    },
    {
      "cell_type": "code",
      "source": [
        "#Criar coluna total de compras\n",
        "df['total_compras'] = (df['compras_web'])+(df['compras_catalogo'])+(df['compras_loja'])"
      ],
      "metadata": {
        "id": "RVV77Lmm3Z6x"
      },
      "execution_count": null,
      "outputs": []
    },
    {
      "cell_type": "code",
      "source": [
        "#Criar coluna total de itens comprados\n",
        "df['total_itens'] = (df['vinho'])+(df['frutas'])+(df['carne'])+(df['peixe'])+(df['doces'])+(df['prod_premiun'])"
      ],
      "metadata": {
        "id": "Mtqvk9J18rAf"
      },
      "execution_count": null,
      "outputs": []
    },
    {
      "cell_type": "code",
      "source": [
        "pd.unique(df['rfm'])"
      ],
      "metadata": {
        "colab": {
          "base_uri": "https://localhost:8080/"
        },
        "id": "bsNM1WXxUot7",
        "outputId": "f8695021-fb7c-4d26-eda4-fe435887797d"
      },
      "execution_count": null,
      "outputs": [
        {
          "output_type": "execute_result",
          "data": {
            "text/plain": [
              "array([58, 38, 26, 94, 16, 34, 32, 19, 68, 11, 59, 82, 53, 23, 51, 20, 91,\n",
              "       86, 41, 42, 63,  0, 69, 89,  4, 96, 56, 31,  8, 55, 37, 76, 99,  3,\n",
              "       88, 80, 72, 24, 92, 39, 29,  2, 54, 57, 30, 12, 18, 75, 90,  1, 25,\n",
              "       40,  9, 87,  5, 95, 48, 70, 79, 45, 84, 44, 43, 35, 15, 17, 46, 27,\n",
              "       74, 85, 65, 13, 83, 10, 21, 61, 73, 47, 36, 49, 28, 64, 98, 78, 77,\n",
              "       81, 14, 52, 93, 50, 60, 66, 97, 62,  6, 33, 67, 22, 71,  7])"
            ]
          },
          "metadata": {},
          "execution_count": 42
        }
      ]
    },
    {
      "cell_type": "code",
      "source": [
        "pd.unique(df['idade'])"
      ],
      "metadata": {
        "colab": {
          "base_uri": "https://localhost:8080/"
        },
        "id": "aEoIHSe0HYno",
        "outputId": "90ae06b4-fe42-4f1c-cc71-7e5f95146af4"
      },
      "execution_count": null,
      "outputs": [
        {
          "output_type": "execute_result",
          "data": {
            "text/plain": [
              "array([ 63,  66,  55,  36,  39,  53,  49,  35,  46,  70,  37,  44,  61,\n",
              "        68,  33,  74,  40,  71,  38,  41,  69,  51,  34,  31,  57,  50,\n",
              "        47,  77,  45,  24,  52,  56,  43,  42,  65,  54,  32,  72,  62,\n",
              "        48,  60,  75,  29,  58,  67,  59,  64,  28, 120, 127,  30,  73,\n",
              "       121,  27,  26,  79,  76,  25,  80])"
            ]
          },
          "metadata": {},
          "execution_count": 43
        }
      ]
    },
    {
      "cell_type": "markdown",
      "source": [
        "## Consumo de vinho por estado cívil"
      ],
      "metadata": {
        "id": "qeLQZzKPmhRY"
      }
    },
    {
      "cell_type": "code",
      "source": [
        "#Consumo de vinho por estado cívil\n",
        "gastos_vinhos_status = df.groupby('estado_civil')['vinho'].sum()"
      ],
      "metadata": {
        "id": "zbS79lhcm2KS"
      },
      "execution_count": null,
      "outputs": []
    },
    {
      "cell_type": "code",
      "source": [
        "gastos_vinhos_status.sort_values(ascending=False)"
      ],
      "metadata": {
        "colab": {
          "base_uri": "https://localhost:8080/"
        },
        "id": "RORiojiaDlCO",
        "outputId": "1f6b00a3-36c8-475a-d8f2-35d447c3a902"
      },
      "execution_count": null,
      "outputs": [
        {
          "output_type": "execute_result",
          "data": {
            "text/plain": [
              "estado_civil\n",
              "CASADO(A)        258751\n",
              "MORA_JUNTOS      177959\n",
              "SOLTEIRO(A)      138399\n",
              "DIVORSIADO(A)     75364\n",
              "VIUVO(A)          28434\n",
              "ABSURD              711\n",
              "YOLO                644\n",
              "SOZINHO             554\n",
              "Name: vinho, dtype: int64"
            ]
          },
          "metadata": {},
          "execution_count": 45
        }
      ]
    },
    {
      "cell_type": "code",
      "source": [
        "#Número de pessoas por estado cívil\n",
        "estado_civil = df.groupby(['estado_civil']).size().sort_values(ascending=False)"
      ],
      "metadata": {
        "id": "FYTBJHWahGdQ"
      },
      "execution_count": null,
      "outputs": []
    },
    {
      "cell_type": "code",
      "source": [
        "estado_civil"
      ],
      "metadata": {
        "colab": {
          "base_uri": "https://localhost:8080/"
        },
        "id": "W4h7c9fckuEa",
        "outputId": "a9e7ec35-3e40-4cdb-e33b-2007512ab1d3"
      },
      "execution_count": null,
      "outputs": [
        {
          "output_type": "execute_result",
          "data": {
            "text/plain": [
              "estado_civil\n",
              "CASADO(A)        864\n",
              "MORA_JUNTOS      580\n",
              "SOLTEIRO(A)      480\n",
              "DIVORSIADO(A)    232\n",
              "VIUVO(A)          77\n",
              "SOZINHO            3\n",
              "ABSURD             2\n",
              "YOLO               2\n",
              "dtype: int64"
            ]
          },
          "metadata": {},
          "execution_count": 47
        }
      ]
    },
    {
      "cell_type": "code",
      "source": [
        "#Média de gastos por vinhos / estado cívil\n",
        "mediaEstadoCivil = gastos_vinhos_status/estado_civil"
      ],
      "metadata": {
        "id": "2oiZzRv3k8FK"
      },
      "execution_count": null,
      "outputs": []
    },
    {
      "cell_type": "code",
      "source": [
        "mediaEstadoCivil.sort_values(ascending=False)"
      ],
      "metadata": {
        "colab": {
          "base_uri": "https://localhost:8080/"
        },
        "id": "O9dMXPjJMRUc",
        "outputId": "2a42b941-beb0-41e1-e003-bc5cd6f79bc7"
      },
      "execution_count": null,
      "outputs": [
        {
          "output_type": "execute_result",
          "data": {
            "text/plain": [
              "estado_civil\n",
              "VIUVO(A)         369.272727\n",
              "ABSURD           355.500000\n",
              "DIVORSIADO(A)    324.844828\n",
              "YOLO             322.000000\n",
              "MORA_JUNTOS      306.825862\n",
              "CASADO(A)        299.480324\n",
              "SOLTEIRO(A)      288.331250\n",
              "SOZINHO          184.666667\n",
              "dtype: float64"
            ]
          },
          "metadata": {},
          "execution_count": 49
        }
      ]
    },
    {
      "cell_type": "code",
      "source": [
        "mediaEstadoCivil.sort_values(ascending=False).plot.bar()"
      ],
      "metadata": {
        "colab": {
          "base_uri": "https://localhost:8080/",
          "height": 365
        },
        "id": "swty33TmlBxq",
        "outputId": "5d5bb4b6-0aab-40a6-b3e1-1f315638b16c"
      },
      "execution_count": null,
      "outputs": [
        {
          "output_type": "execute_result",
          "data": {
            "text/plain": [
              "<AxesSubplot:xlabel='estado_civil'>"
            ]
          },
          "metadata": {},
          "execution_count": 50
        },
        {
          "output_type": "display_data",
          "data": {
            "text/plain": [
              "<Figure size 432x288 with 1 Axes>"
            ],
            "image/png": "[encoded data removed]"
          },
          "metadata": {
            "needs_background": "light"
          }
        }
      ]
    },
    {
      "cell_type": "markdown",
      "source": [
        "## Consumo Vinho por escolaridade"
      ],
      "metadata": {
        "id": "7pE0lFhXmsmp"
      }
    },
    {
      "cell_type": "code",
      "source": [
        "#Consumo de vinho por escolaridade\n",
        "gastos_vinhos_educacao = df.groupby('escolaridade')['vinho'].sum()"
      ],
      "metadata": {
        "id": "IyhQ0Ar5RbCR"
      },
      "execution_count": null,
      "outputs": []
    },
    {
      "cell_type": "code",
      "source": [
        "gastos_vinhos_educacao.sort_values(ascending=False)"
      ],
      "metadata": {
        "colab": {
          "base_uri": "https://localhost:8080/"
        },
        "id": "UfOqWw28Rg4q",
        "outputId": "ebfc7b8f-d724-4c8c-9c15-659a51be9414"
      },
      "execution_count": null,
      "outputs": [
        {
          "output_type": "execute_result",
          "data": {
            "text/plain": [
              "escolaridade\n",
              "GRADUAÇÃO    320371\n",
              "PHD          196585\n",
              "MESTRADO     123238\n",
              "ENS_MEDIO     40231\n",
              "ENS_FUND        391\n",
              "Name: vinho, dtype: int64"
            ]
          },
          "metadata": {},
          "execution_count": 52
        }
      ]
    },
    {
      "cell_type": "code",
      "source": [
        "#Número de pessoas por escolaridade\n",
        "educacao = df.groupby(['escolaridade']).size().sort_values(ascending=False)\n",
        "educacao"
      ],
      "metadata": {
        "colab": {
          "base_uri": "https://localhost:8080/"
        },
        "id": "qk-gu7Fpq26e",
        "outputId": "ccea9a48-b4f4-46f1-85b3-fd0157f7f4b6"
      },
      "execution_count": null,
      "outputs": [
        {
          "output_type": "execute_result",
          "data": {
            "text/plain": [
              "escolaridade\n",
              "GRADUAÇÃO    1127\n",
              "PHD           486\n",
              "MESTRADO      370\n",
              "ENS_MEDIO     203\n",
              "ENS_FUND       54\n",
              "dtype: int64"
            ]
          },
          "metadata": {},
          "execution_count": 53
        }
      ]
    },
    {
      "cell_type": "code",
      "source": [
        "#Média de gastos por vinhos / escolaridade\n",
        "mediaEducacao = gastos_vinhos_educacao / educacao\n",
        "mediaEducacao.sort_values(ascending=False)"
      ],
      "metadata": {
        "colab": {
          "base_uri": "https://localhost:8080/"
        },
        "id": "T8EZyy1s8SZX",
        "outputId": "03baa21b-a1bb-42cb-deaa-e8b1ed01ee5a"
      },
      "execution_count": null,
      "outputs": [
        {
          "output_type": "execute_result",
          "data": {
            "text/plain": [
              "escolaridade\n",
              "PHD          404.495885\n",
              "MESTRADO     333.075676\n",
              "GRADUAÇÃO    284.268855\n",
              "ENS_MEDIO    198.182266\n",
              "ENS_FUND       7.240741\n",
              "dtype: float64"
            ]
          },
          "metadata": {},
          "execution_count": 54
        }
      ]
    },
    {
      "cell_type": "code",
      "source": [
        "mediaEducacao.sort_values(ascending=False).plot.bar()"
      ],
      "metadata": {
        "colab": {
          "base_uri": "https://localhost:8080/",
          "height": 351
        },
        "id": "Odh6-h94rf8e",
        "outputId": "7d507893-4b86-48f5-bdb8-833b61e248c2"
      },
      "execution_count": null,
      "outputs": [
        {
          "output_type": "execute_result",
          "data": {
            "text/plain": [
              "<AxesSubplot:xlabel='escolaridade'>"
            ]
          },
          "metadata": {},
          "execution_count": 55
        },
        {
          "output_type": "display_data",
          "data": {
            "text/plain": [
              "<Figure size 432x288 with 1 Axes>"
            ],
            "image/png": "[encoded data removed]"
          },
          "metadata": {
            "needs_background": "light"
          }
        }
      ]
    },
    {
      "cell_type": "markdown",
      "source": [
        "##Consumo de carne por escolaridade\n",
        "\n"
      ],
      "metadata": {
        "id": "B1YmIDbFtq-2"
      }
    },
    {
      "cell_type": "code",
      "source": [
        "#Consumo de carne por escolaridade\n",
        "gastos_carnes = df.groupby('escolaridade')['carne'].sum()"
      ],
      "metadata": {
        "id": "1dSmXsjjuKma"
      },
      "execution_count": null,
      "outputs": []
    },
    {
      "cell_type": "code",
      "source": [
        "gastos_carnes.sort_values(ascending=False)"
      ],
      "metadata": {
        "colab": {
          "base_uri": "https://localhost:8080/"
        },
        "id": "2ll2fr3j0M-p",
        "outputId": "13ddec33-cca1-48e3-a1e7-2006cb709274"
      },
      "execution_count": null,
      "outputs": [
        {
          "output_type": "execute_result",
          "data": {
            "text/plain": [
              "escolaridade\n",
              "GRADUAÇÃO    202284\n",
              "PHD           81941\n",
              "MESTRADO      60450\n",
              "ENS_MEDIO     28675\n",
              "ENS_FUND        618\n",
              "Name: carne, dtype: int64"
            ]
          },
          "metadata": {},
          "execution_count": 58
        }
      ]
    },
    {
      "cell_type": "code",
      "source": [
        "#Média de consumo carne / escolaridade\n",
        "mediaCarne = gastos_carnes / educacao"
      ],
      "metadata": {
        "id": "sPdCNPHw0-Cg"
      },
      "execution_count": null,
      "outputs": []
    },
    {
      "cell_type": "code",
      "source": [
        "mediaCarne.sort_values(ascending=False)"
      ],
      "metadata": {
        "colab": {
          "base_uri": "https://localhost:8080/"
        },
        "id": "aPBJEwDI1DWQ",
        "outputId": "108f7e61-4492-468c-f3f8-d97772e06f55"
      },
      "execution_count": null,
      "outputs": [
        {
          "output_type": "execute_result",
          "data": {
            "text/plain": [
              "escolaridade\n",
              "GRADUAÇÃO    179.488909\n",
              "PHD          168.602881\n",
              "MESTRADO     163.378378\n",
              "ENS_MEDIO    141.256158\n",
              "ENS_FUND      11.444444\n",
              "dtype: float64"
            ]
          },
          "metadata": {},
          "execution_count": 60
        }
      ]
    },
    {
      "cell_type": "code",
      "source": [
        "mediaCarne.plot.bar()"
      ],
      "metadata": {
        "colab": {
          "base_uri": "https://localhost:8080/",
          "height": 351
        },
        "id": "iSMiTEP11QdQ",
        "outputId": "228d3e13-5888-4f08-c6fa-77b3a6aa6185"
      },
      "execution_count": null,
      "outputs": [
        {
          "output_type": "execute_result",
          "data": {
            "text/plain": [
              "<AxesSubplot:xlabel='escolaridade'>"
            ]
          },
          "metadata": {},
          "execution_count": 61
        },
        {
          "output_type": "display_data",
          "data": {
            "text/plain": [
              "<Figure size 432x288 with 1 Axes>"
            ],
            "image/png": "[encoded data removed]"
          },
          "metadata": {
            "needs_background": "light"
          }
        }
      ]
    },
    {
      "cell_type": "markdown",
      "source": [
        "## Produtos premium por escolaridade"
      ],
      "metadata": {
        "id": "CmcEvZQI2D2h"
      }
    },
    {
      "cell_type": "code",
      "source": [
        "#Consumo produtos premium por escolaridade\n",
        "produtosPremium = df.groupby('escolaridade')['prod_premiun'].sum()"
      ],
      "metadata": {
        "id": "1-qwtSbZ2M25"
      },
      "execution_count": null,
      "outputs": []
    },
    {
      "cell_type": "code",
      "source": [
        "produtosPremium.sort_values(ascending=False)"
      ],
      "metadata": {
        "colab": {
          "base_uri": "https://localhost:8080/"
        },
        "id": "ainFAFsB2Xoo",
        "outputId": "f5b502c7-69ac-4840-ef95-45cd71c19234"
      },
      "execution_count": null,
      "outputs": [
        {
          "output_type": "execute_result",
          "data": {
            "text/plain": [
              "escolaridade\n",
              "GRADUAÇÃO    57307\n",
              "PHD          15703\n",
              "MESTRADO     14947\n",
              "ENS_MEDIO     9419\n",
              "ENS_FUND      1233\n",
              "Name: prod_premiun, dtype: int64"
            ]
          },
          "metadata": {},
          "execution_count": 63
        }
      ]
    },
    {
      "cell_type": "code",
      "source": [
        "#Média de consumo produtos premium / escolaridade\n",
        "mediaPremium = produtosPremium / educacao"
      ],
      "metadata": {
        "id": "Aa-ZLbm42fbA"
      },
      "execution_count": null,
      "outputs": []
    },
    {
      "cell_type": "code",
      "source": [
        "mediaPremium.sort_values(ascending=False)"
      ],
      "metadata": {
        "colab": {
          "base_uri": "https://localhost:8080/"
        },
        "id": "10FX6r1y2v6p",
        "outputId": "2c1dae4d-7e53-4aa2-8895-76d9c7f130e3"
      },
      "execution_count": null,
      "outputs": [
        {
          "output_type": "execute_result",
          "data": {
            "text/plain": [
              "escolaridade\n",
              "GRADUAÇÃO    50.849157\n",
              "ENS_MEDIO    46.399015\n",
              "MESTRADO     40.397297\n",
              "PHD          32.310700\n",
              "ENS_FUND     22.833333\n",
              "dtype: float64"
            ]
          },
          "metadata": {},
          "execution_count": 65
        }
      ]
    },
    {
      "cell_type": "code",
      "source": [
        "mediaPremium.sort_values(ascending=False).plot.bar()"
      ],
      "metadata": {
        "colab": {
          "base_uri": "https://localhost:8080/",
          "height": 351
        },
        "id": "cxt2vbS33CCy",
        "outputId": "a315c673-7810-4a78-cf7a-b0589d783a46"
      },
      "execution_count": null,
      "outputs": [
        {
          "output_type": "execute_result",
          "data": {
            "text/plain": [
              "<AxesSubplot:xlabel='escolaridade'>"
            ]
          },
          "metadata": {},
          "execution_count": 66
        },
        {
          "output_type": "display_data",
          "data": {
            "text/plain": [
              "<Figure size 432x288 with 1 Axes>"
            ],
            "image/png": "[encoded data removed]"
          },
          "metadata": {
            "needs_background": "light"
          }
        }
      ]
    },
    {
      "cell_type": "markdown",
      "source": [
        "##Consumo Premium por idade"
      ],
      "metadata": {
        "id": "e96VBbwmQP_U"
      }
    },
    {
      "cell_type": "code",
      "source": [
        "#Consumo produto premium por idade\n",
        "premiumIdade = df.groupby('idade')['prod_premiun'].sum()"
      ],
      "metadata": {
        "id": "h0tHiwbyQUe7"
      },
      "execution_count": null,
      "outputs": []
    },
    {
      "cell_type": "code",
      "source": [
        "premiumIdade.sort_values(ascending=False).head(10)"
      ],
      "metadata": {
        "colab": {
          "base_uri": "https://localhost:8080/"
        },
        "id": "nohtvq_pQbPr",
        "outputId": "45a51e6e-a767-409a-88cc-4826b721397f"
      },
      "execution_count": null,
      "outputs": [
        {
          "output_type": "execute_result",
          "data": {
            "text/plain": [
              "idade\n",
              "48    3720\n",
              "50    3634\n",
              "45    3433\n",
              "55    3414\n",
              "44    3325\n",
              "51    3155\n",
              "42    3146\n",
              "69    3083\n",
              "68    3016\n",
              "58    2917\n",
              "Name: prod_premiun, dtype: int64"
            ]
          },
          "metadata": {},
          "execution_count": 68
        }
      ]
    },
    {
      "cell_type": "code",
      "source": [
        "qtd_idade = df.groupby(['idade']).size().sort_values(ascending=False)"
      ],
      "metadata": {
        "id": "4Q-hlxTP4JLn"
      },
      "execution_count": null,
      "outputs": []
    },
    {
      "cell_type": "code",
      "source": [
        "qtd_idade"
      ],
      "metadata": {
        "id": "mQuez8yz4U5I",
        "colab": {
          "base_uri": "https://localhost:8080/"
        },
        "outputId": "6426efb2-315c-4fb2-be72-1c10f4aac95e"
      },
      "execution_count": null,
      "outputs": [
        {
          "output_type": "execute_result",
          "data": {
            "text/plain": [
              "idade\n",
              "44     89\n",
              "49     87\n",
              "45     83\n",
              "48     79\n",
              "50     77\n",
              "42     77\n",
              "55     74\n",
              "47     74\n",
              "51     71\n",
              "46     69\n",
              "64     55\n",
              "62     53\n",
              "41     53\n",
              "43     52\n",
              "68     52\n",
              "61     51\n",
              "52     51\n",
              "66     50\n",
              "54     50\n",
              "60     49\n",
              "65     49\n",
              "57     45\n",
              "38     45\n",
              "58     44\n",
              "53     44\n",
              "63     43\n",
              "69     43\n",
              "56     42\n",
              "37     42\n",
              "34     42\n",
              "40     39\n",
              "39     39\n",
              "36     38\n",
              "59     36\n",
              "67     35\n",
              "35     32\n",
              "31     30\n",
              "71     30\n",
              "32     29\n",
              "70     29\n",
              "33     27\n",
              "72     21\n",
              "30     18\n",
              "73     16\n",
              "74     16\n",
              "29     15\n",
              "28     13\n",
              "75      8\n",
              "76      7\n",
              "77      7\n",
              "25      5\n",
              "27      5\n",
              "26      3\n",
              "24      2\n",
              "79      1\n",
              "80      1\n",
              "120     1\n",
              "121     1\n",
              "127     1\n",
              "dtype: int64"
            ]
          },
          "metadata": {},
          "execution_count": 70
        }
      ]
    },
    {
      "cell_type": "code",
      "source": [
        "premium_idade = premiumIdade / qtd_idade"
      ],
      "metadata": {
        "id": "23fQIG8d4bdY"
      },
      "execution_count": null,
      "outputs": []
    },
    {
      "cell_type": "code",
      "source": [
        "premium_idade.sort_values(ascending=False).head(10).plot.bar()"
      ],
      "metadata": {
        "colab": {
          "base_uri": "https://localhost:8080/",
          "height": 305
        },
        "id": "mlSHLOLWQ10E",
        "outputId": "6f82482c-97b8-4cae-ed3f-63b81ee4f614"
      },
      "execution_count": null,
      "outputs": [
        {
          "output_type": "execute_result",
          "data": {
            "text/plain": [
              "<AxesSubplot:xlabel='idade'>"
            ]
          },
          "metadata": {},
          "execution_count": 72
        },
        {
          "output_type": "display_data",
          "data": {
            "text/plain": [
              "<Figure size 432x288 with 1 Axes>"
            ],
            "image/png": "[encoded data removed]"
          },
          "metadata": {
            "needs_background": "light"
          }
        }
      ]
    },
    {
      "cell_type": "markdown",
      "source": [
        "##Consumo vinho por idade"
      ],
      "metadata": {
        "id": "6on7ER1lJIVh"
      }
    },
    {
      "cell_type": "code",
      "source": [
        "media_vinhos_idade = df.groupby('idade')['vinho'].mean()"
      ],
      "metadata": {
        "id": "oUC8JeRt3VuW"
      },
      "execution_count": null,
      "outputs": []
    },
    {
      "cell_type": "code",
      "source": [
        "media_vinhos_idade.sort_values(ascending=False).head(10)"
      ],
      "metadata": {
        "colab": {
          "base_uri": "https://localhost:8080/"
        },
        "id": "MJ9mBiGK9ROY",
        "outputId": "09244012-d412-43f9-98db-863897319163"
      },
      "execution_count": null,
      "outputs": [
        {
          "output_type": "execute_result",
          "data": {
            "text/plain": [
              "idade\n",
              "79     1285.000000\n",
              "121     755.000000\n",
              "26      659.000000\n",
              "77      635.142857\n",
              "76      566.000000\n",
              "29      549.200000\n",
              "71      519.766667\n",
              "73      493.500000\n",
              "72      449.523810\n",
              "75      445.500000\n",
              "Name: vinho, dtype: float64"
            ]
          },
          "metadata": {},
          "execution_count": 79
        }
      ]
    },
    {
      "cell_type": "code",
      "source": [
        "#Consumo vinho por idade\n",
        "gastos_vinhos_idade = df.groupby('idade')['vinho'].sum()"
      ],
      "metadata": {
        "id": "-AU6VdYGJLpo"
      },
      "execution_count": null,
      "outputs": []
    },
    {
      "cell_type": "code",
      "source": [
        "gastos_vinhos_idade.sort_values(ascending=False).head(10)"
      ],
      "metadata": {
        "colab": {
          "base_uri": "https://localhost:8080/"
        },
        "id": "M7Wh3F85JMqp",
        "outputId": "a729ea3e-5bf8-4045-95fd-a8c0fcc2a1c3"
      },
      "execution_count": null,
      "outputs": [
        {
          "output_type": "execute_result",
          "data": {
            "text/plain": [
              "idade\n",
              "50    26325\n",
              "45    25183\n",
              "51    24178\n",
              "55    23186\n",
              "44    23158\n",
              "49    23111\n",
              "48    22827\n",
              "66    20418\n",
              "62    19807\n",
              "65    19763\n",
              "Name: vinho, dtype: int64"
            ]
          },
          "metadata": {},
          "execution_count": 78
        }
      ]
    },
    {
      "cell_type": "markdown",
      "source": [
        "##10 idades mais encontradas"
      ],
      "metadata": {
        "id": "14RMB9kcLhmq"
      }
    },
    {
      "cell_type": "code",
      "source": [
        "#média de idade da base\n",
        "media_idade = df['idade'].mean()"
      ],
      "metadata": {
        "id": "SX4aoT772jrI"
      },
      "execution_count": null,
      "outputs": []
    },
    {
      "cell_type": "code",
      "source": [
        "print(f\"A média de idade é {media_idade:.1f} anos.\")"
      ],
      "metadata": {
        "colab": {
          "base_uri": "https://localhost:8080/"
        },
        "id": "pz2fgfjd2mA3",
        "outputId": "133d46dd-2497-40d3-95b8-43acac0b2a44"
      },
      "execution_count": null,
      "outputs": [
        {
          "output_type": "stream",
          "name": "stdout",
          "text": [
            "A média de idade é 51.2 anos.\n"
          ]
        }
      ]
    },
    {
      "cell_type": "code",
      "source": [
        "#Número de pessoas por idade\n",
        "qtd_idade = df.groupby(['idade']).size().sort_values(ascending=False)"
      ],
      "metadata": {
        "id": "LXAS05fpLXOB"
      },
      "execution_count": null,
      "outputs": []
    },
    {
      "cell_type": "code",
      "source": [
        "qtd_idade.sort_values(ascending=False).head(10)"
      ],
      "metadata": {
        "colab": {
          "base_uri": "https://localhost:8080/"
        },
        "id": "6d9lyz6oLb6K",
        "outputId": "d032ea0c-023b-48c0-bd55-5ad96926d1f7"
      },
      "execution_count": null,
      "outputs": [
        {
          "output_type": "execute_result",
          "data": {
            "text/plain": [
              "idade\n",
              "44    89\n",
              "49    87\n",
              "45    83\n",
              "48    79\n",
              "50    77\n",
              "42    77\n",
              "55    74\n",
              "47    74\n",
              "51    71\n",
              "46    69\n",
              "dtype: int64"
            ]
          },
          "metadata": {},
          "execution_count": 83
        }
      ]
    },
    {
      "cell_type": "markdown",
      "source": [
        "##Compras Web por idade"
      ],
      "metadata": {
        "id": "7lFBQ4ycKKor"
      }
    },
    {
      "cell_type": "code",
      "source": [
        "#compras web por idade\n",
        "compraweb_idade = df.groupby('idade')['compras_web'].sum()"
      ],
      "metadata": {
        "id": "0xYynv72KOrI"
      },
      "execution_count": null,
      "outputs": []
    },
    {
      "cell_type": "code",
      "source": [
        "compraweb_idade.sort_values(ascending=False).head(10)"
      ],
      "metadata": {
        "colab": {
          "base_uri": "https://localhost:8080/"
        },
        "id": "X2AdR3AKKbtJ",
        "outputId": "80524d5a-4c01-4c80-9879-751ee31890be"
      },
      "execution_count": null,
      "outputs": [
        {
          "output_type": "execute_result",
          "data": {
            "text/plain": [
              "idade\n",
              "55    344\n",
              "44    339\n",
              "45    331\n",
              "49    331\n",
              "48    314\n",
              "51    311\n",
              "50    310\n",
              "64    273\n",
              "46    271\n",
              "42    270\n",
              "Name: compras_web, dtype: int64"
            ]
          },
          "metadata": {},
          "execution_count": 85
        }
      ]
    },
    {
      "cell_type": "markdown",
      "source": [
        "## Compras loja por idade"
      ],
      "metadata": {
        "id": "bh-X1rPkK1Wr"
      }
    },
    {
      "cell_type": "code",
      "source": [
        "#compras loja por idade\n",
        "compraloja_idade = df.groupby('idade')['compras_loja'].sum()"
      ],
      "metadata": {
        "id": "7cItQU12K49R"
      },
      "execution_count": null,
      "outputs": []
    },
    {
      "cell_type": "code",
      "source": [
        "compraloja_idade.sort_values(ascending=False).head(10)"
      ],
      "metadata": {
        "colab": {
          "base_uri": "https://localhost:8080/"
        },
        "id": "DS38cImYLDBp",
        "outputId": "6c70f17d-35c4-4d14-fecd-53e1b0b00abe"
      },
      "execution_count": null,
      "outputs": [
        {
          "output_type": "execute_result",
          "data": {
            "text/plain": [
              "idade\n",
              "44    491\n",
              "45    474\n",
              "49    464\n",
              "50    463\n",
              "55    438\n",
              "48    435\n",
              "51    410\n",
              "42    407\n",
              "64    383\n",
              "46    382\n",
              "Name: compras_loja, dtype: int64"
            ]
          },
          "metadata": {},
          "execution_count": 87
        }
      ]
    },
    {
      "cell_type": "markdown",
      "source": [
        "##Compras catalogo por idade"
      ],
      "metadata": {
        "id": "tr2JRgjoROxU"
      }
    },
    {
      "cell_type": "code",
      "source": [
        "#compras catalogo por idade\n",
        "compracatalogo_idade = df.groupby('idade')['compras_catalogo'].sum()"
      ],
      "metadata": {
        "id": "n5uY1GAKRT6b"
      },
      "execution_count": null,
      "outputs": []
    },
    {
      "cell_type": "code",
      "source": [
        "compracatalogo_idade.sort_values(ascending=False).head(10)"
      ],
      "metadata": {
        "colab": {
          "base_uri": "https://localhost:8080/"
        },
        "id": "Qqc15iZCRbxO",
        "outputId": "66eaa32d-7b1d-4dfa-e131-5de2b26332b4"
      },
      "execution_count": null,
      "outputs": [
        {
          "output_type": "execute_result",
          "data": {
            "text/plain": [
              "idade\n",
              "45    213\n",
              "50    213\n",
              "51    200\n",
              "49    195\n",
              "44    194\n",
              "55    186\n",
              "62    183\n",
              "48    179\n",
              "68    172\n",
              "64    170\n",
              "Name: compras_catalogo, dtype: int64"
            ]
          },
          "metadata": {},
          "execution_count": 89
        }
      ]
    },
    {
      "cell_type": "markdown",
      "source": [
        "##Compras por RFM\n",
        "Entendemos que esse número se refere ao [RFM - Recency, Frequency, Monetary.](https://www.investopedia.com/terms/r/rfm-recency-frequency-monetary-value.asp)"
      ],
      "metadata": {
        "id": "bPv4xrlh6E1M"
      }
    },
    {
      "cell_type": "code",
      "source": [
        "#Tentamos fazer a comparação da quantidade comprada com o RFM.\n",
        "comprasTotal_RFM = df.groupby('rfm')['total_compras'].sum()"
      ],
      "metadata": {
        "id": "JIRWZRgZc9X9"
      },
      "execution_count": null,
      "outputs": []
    },
    {
      "cell_type": "code",
      "source": [
        "comprasTotal_RFM .sort_index().plot.bar(figsize=(20,8),xlabel='RFM',ylabel='Total de Compras')"
      ],
      "metadata": {
        "colab": {
          "base_uri": "https://localhost:8080/",
          "height": 494
        },
        "id": "-24Q0cY2dJxm",
        "outputId": "d1dcc4f9-3b6a-4698-e05d-1d269e1b8116"
      },
      "execution_count": null,
      "outputs": [
        {
          "output_type": "execute_result",
          "data": {
            "text/plain": [
              "<AxesSubplot:xlabel='RFM', ylabel='Total de Compras'>"
            ]
          },
          "metadata": {},
          "execution_count": 91
        },
        {
          "output_type": "display_data",
          "data": {
            "text/plain": [
              "<Figure size 1440x576 with 1 Axes>"
            ],
            "image/png": "[encoded data removed]"
          },
          "metadata": {
            "needs_background": "light"
          }
        }
      ]
    },
    {
      "cell_type": "code",
      "source": [
        "#colunas para dropar\n",
        "#'AcceptedCmp3','AcceptedCmp4','AcceptedCmp5','AcceptedCmp1','AcceptedCmp2','reclamação','Z_CostContact', 'Z_Revenue','Response'\n",
        "#Dropamos essas colunas, onde a maioria era valor booleano\n",
        "#df.drop(['AcceptedCmp3','AcceptedCmp4','AcceptedCmp5','AcceptedCmp1','AcceptedCmp2','reclamação','Z_CostContact', 'Z_Revenue','Response'],axis=1,inplace=True)\n"
      ],
      "metadata": {
        "id": "7VjNB71CTSJN"
      },
      "execution_count": null,
      "outputs": []
    },
    {
      "cell_type": "code",
      "source": [
        "rendac = (df.renda < 54000 )\n",
        "rendab = (df.renda > 54001 ) & (df.renda < 108000 )\n",
        "rendaa = (df.renda > 108001 ) & (df.renda < 163000 )"
      ],
      "metadata": {
        "id": "xvp-qx-fHVE5"
      },
      "execution_count": null,
      "outputs": []
    },
    {
      "cell_type": "code",
      "source": [
        "df.loc[rendac]['total_compras'].sum()\n",
        "df.loc[rendab]['total_compras'].sum()\n",
        "df.loc[rendaa]['total_compras'].sum()\n",
        "\n",
        "df.loc[rendac]"
      ],
      "metadata": {
        "id": "iN-m0xZR98CM",
        "colab": {
          "base_uri": "https://localhost:8080/",
          "height": 519
        },
        "outputId": "fb8f64a2-3388-44e5-dea6-2154aca4c2b0"
      },
      "execution_count": null,
      "outputs": [
        {
          "output_type": "execute_result",
          "data": {
            "text/plain": [
              "      ano_nasc escolaridade estado_civil    renda  n_criancas  n_adolescentes  \\\n",
              "ID                                                                              \n",
              "2174      1954    GRADUAÇÃO  SOLTEIRO(A)  46344.0           1               1   \n",
              "6182      1984    GRADUAÇÃO  MORA_JUNTOS  26646.0           1               0   \n",
              "6177      1985          PHD    CASADO(A)  33454.0           1               0   \n",
              "4855      1974          PHD  MORA_JUNTOS  30351.0           1               0   \n",
              "5899      1950          PHD  MORA_JUNTOS   5648.0           1               1   \n",
              "...        ...          ...          ...      ...         ...             ...   \n",
              "7004      1984    GRADUAÇÃO  SOLTEIRO(A)  11012.0           1               0   \n",
              "9817      1970     MESTRADO  SOLTEIRO(A)  44802.0           0               0   \n",
              "8080      1986    GRADUAÇÃO  SOLTEIRO(A)  26816.0           0               0   \n",
              "8372      1974    GRADUAÇÃO    CASADO(A)  34421.0           1               0   \n",
              "9405      1954          PHD    CASADO(A)  52869.0           1               1   \n",
              "\n",
              "     dt_cadastro  rfm  vinho  frutas  carne  peixe  doces  prod_premiun  \\\n",
              "ID                                                                        \n",
              "2174  08-03-2014   38     11       1      6      2      1             6   \n",
              "6182  10-02-2014   26     11       4     20     10      3             5   \n",
              "6177  08-05-2013   32     76      10     56      3      1            23   \n",
              "4855  06-06-2013   19     14       0     24      3      3             2   \n",
              "5899  13-03-2014   68     28       0      6      1      1            13   \n",
              "...          ...  ...    ...     ...    ...    ...    ...           ...   \n",
              "7004  16-03-2013   82     24       3     26      7      1            23   \n",
              "9817  21-08-2012   71    853      10    143     13     10            20   \n",
              "8080  17-08-2012   50      5       1      6      3      4             3   \n",
              "8372  01-07-2013   81      3       3      7      6      2             9   \n",
              "9405  15-10-2012   40     84       3     61      2      1            21   \n",
              "\n",
              "      compras_ofertas  compras_web  compras_catalogo  compras_loja  \\\n",
              "ID                                                                   \n",
              "2174                2            1                 1             2   \n",
              "6182                2            2                 0             4   \n",
              "6177                2            4                 0             4   \n",
              "4855                1            3                 0             2   \n",
              "5899                1            1                 0             0   \n",
              "...               ...          ...               ...           ...   \n",
              "7004                3            3                 1             2   \n",
              "9817                2            9                 4            12   \n",
              "8080                1            0                 0             3   \n",
              "8372                1            1                 0             2   \n",
              "9405                3            3                 1             4   \n",
              "\n",
              "      media_visitas_site  AcceptedCmp3  AcceptedCmp4  AcceptedCmp5  \\\n",
              "ID                                                                   \n",
              "2174                   5             0             0             0   \n",
              "6182                   6             0             0             0   \n",
              "6177                   8             0             0             0   \n",
              "4855                   9             0             0             0   \n",
              "5899                  20             1             0             0   \n",
              "...                  ...           ...           ...           ...   \n",
              "7004                   9             1             0             0   \n",
              "9817                   8             0             0             0   \n",
              "8080                   4             0             0             0   \n",
              "8372                   7             0             0             0   \n",
              "9405                   7             0             0             0   \n",
              "\n",
              "      AcceptedCmp1  AcceptedCmp2  reclamacoes  custo_contrato  receita_gerada  \\\n",
              "ID                                                                              \n",
              "2174             0             0            0               3              11   \n",
              "6182             0             0            0               3              11   \n",
              "6177             0             0            0               3              11   \n",
              "4855             0             0            0               3              11   \n",
              "5899             0             0            0               3              11   \n",
              "...            ...           ...          ...             ...             ...   \n",
              "7004             0             0            0               3              11   \n",
              "9817             0             0            0               3              11   \n",
              "8080             0             0            0               3              11   \n",
              "8372             0             0            0               3              11   \n",
              "9405             0             0            0               3              11   \n",
              "\n",
              "      Response  idade  filhos  total_compras  total_itens  \n",
              "ID                                                         \n",
              "2174         0     66       2              4           27  \n",
              "6182         0     36       1              6           53  \n",
              "6177         0     35       1              8          169  \n",
              "4855         1     46       1              5           46  \n",
              "5899         0     70       2              1           49  \n",
              "...        ...    ...     ...            ...          ...  \n",
              "7004         0     36       1              6           84  \n",
              "9817         0     50       0             25         1049  \n",
              "8080         0     34       0              3           22  \n",
              "8372         0     46       1              3           30  \n",
              "9405         1     66       2              8          172  \n",
              "\n",
              "[1177 rows x 32 columns]"
            ],
            "text/html": [
              "\n",
              "  <div id=\"df-b1f6ca9f-771b-49e6-b49d-802c484b6607\">\n",
              "    <div class=\"colab-df-container\">\n",
              "      <div>\n",
              "<style scoped>\n",
              "    .dataframe tbody tr th:only-of-type {\n",
              "        vertical-align: middle;\n",
              "    }\n",
              "\n",
              "    .dataframe tbody tr th {\n",
              "        vertical-align: top;\n",
              "    }\n",
              "\n",
              "    .dataframe thead th {\n",
              "        text-align: right;\n",
              "    }\n",
              "</style>\n",
              "<table border=\"1\" class=\"dataframe\">\n",
              "  <thead>\n",
              "    <tr style=\"text-align: right;\">\n",
              "      <th></th>\n",
              "      <th>ano_nasc</th>\n",
              "      <th>escolaridade</th>\n",
              "      <th>estado_civil</th>\n",
              "      <th>renda</th>\n",
              "      <th>n_criancas</th>\n",
              "      <th>n_adolescentes</th>\n",
              "      <th>dt_cadastro</th>\n",
              "      <th>rfm</th>\n",
              "      <th>vinho</th>\n",
              "      <th>frutas</th>\n",
              "      <th>carne</th>\n",
              "      <th>peixe</th>\n",
              "      <th>doces</th>\n",
              "      <th>prod_premiun</th>\n",
              "      <th>compras_ofertas</th>\n",
              "      <th>compras_web</th>\n",
              "      <th>compras_catalogo</th>\n",
              "      <th>compras_loja</th>\n",
              "      <th>media_visitas_site</th>\n",
              "      <th>AcceptedCmp3</th>\n",
              "      <th>AcceptedCmp4</th>\n",
              "      <th>AcceptedCmp5</th>\n",
              "      <th>AcceptedCmp1</th>\n",
              "      <th>AcceptedCmp2</th>\n",
              "      <th>reclamacoes</th>\n",
              "      <th>custo_contrato</th>\n",
              "      <th>receita_gerada</th>\n",
              "      <th>Response</th>\n",
              "      <th>idade</th>\n",
              "      <th>filhos</th>\n",
              "      <th>total_compras</th>\n",
              "      <th>total_itens</th>\n",
              "    </tr>\n",
              "    <tr>\n",
              "      <th>ID</th>\n",
              "      <th></th>\n",
              "      <th></th>\n",
              "      <th></th>\n",
              "      <th></th>\n",
              "      <th></th>\n",
              "      <th></th>\n",
              "      <th></th>\n",
              "      <th></th>\n",
              "      <th></th>\n",
              "      <th></th>\n",
              "      <th></th>\n",
              "      <th></th>\n",
              "      <th></th>\n",
              "      <th></th>\n",
              "      <th></th>\n",
              "      <th></th>\n",
              "      <th></th>\n",
              "      <th></th>\n",
              "      <th></th>\n",
              "      <th></th>\n",
              "      <th></th>\n",
              "      <th></th>\n",
              "      <th></th>\n",
              "      <th></th>\n",
              "      <th></th>\n",
              "      <th></th>\n",
              "      <th></th>\n",
              "      <th></th>\n",
              "      <th></th>\n",
              "      <th></th>\n",
              "      <th></th>\n",
              "      <th></th>\n",
              "    </tr>\n",
              "  </thead>\n",
              "  <tbody>\n",
              "    <tr>\n",
              "      <th>2174</th>\n",
              "      <td>1954</td>\n",
              "      <td>GRADUAÇÃO</td>\n",
              "      <td>SOLTEIRO(A)</td>\n",
              "      <td>46344.0</td>\n",
              "      <td>1</td>\n",
              "      <td>1</td>\n",
              "      <td>08-03-2014</td>\n",
              "      <td>38</td>\n",
              "      <td>11</td>\n",
              "      <td>1</td>\n",
              "      <td>6</td>\n",
              "      <td>2</td>\n",
              "      <td>1</td>\n",
              "      <td>6</td>\n",
              "      <td>2</td>\n",
              "      <td>1</td>\n",
              "      <td>1</td>\n",
              "      <td>2</td>\n",
              "      <td>5</td>\n",
              "      <td>0</td>\n",
              "      <td>0</td>\n",
              "      <td>0</td>\n",
              "      <td>0</td>\n",
              "      <td>0</td>\n",
              "      <td>0</td>\n",
              "      <td>3</td>\n",
              "      <td>11</td>\n",
              "      <td>0</td>\n",
              "      <td>66</td>\n",
              "      <td>2</td>\n",
              "      <td>4</td>\n",
              "      <td>27</td>\n",
              "    </tr>\n",
              "    <tr>\n",
              "      <th>6182</th>\n",
              "      <td>1984</td>\n",
              "      <td>GRADUAÇÃO</td>\n",
              "      <td>MORA_JUNTOS</td>\n",
              "      <td>26646.0</td>\n",
              "      <td>1</td>\n",
              "      <td>0</td>\n",
              "      <td>10-02-2014</td>\n",
              "      <td>26</td>\n",
              "      <td>11</td>\n",
              "      <td>4</td>\n",
              "      <td>20</td>\n",
              "      <td>10</td>\n",
              "      <td>3</td>\n",
              "      <td>5</td>\n",
              "      <td>2</td>\n",
              "      <td>2</td>\n",
              "      <td>0</td>\n",
              "      <td>4</td>\n",
              "      <td>6</td>\n",
              "      <td>0</td>\n",
              "      <td>0</td>\n",
              "      <td>0</td>\n",
              "      <td>0</td>\n",
              "      <td>0</td>\n",
              "      <td>0</td>\n",
              "      <td>3</td>\n",
              "      <td>11</td>\n",
              "      <td>0</td>\n",
              "      <td>36</td>\n",
              "      <td>1</td>\n",
              "      <td>6</td>\n",
              "      <td>53</td>\n",
              "    </tr>\n",
              "    <tr>\n",
              "      <th>6177</th>\n",
              "      <td>1985</td>\n",
              "      <td>PHD</td>\n",
              "      <td>CASADO(A)</td>\n",
              "      <td>33454.0</td>\n",
              "      <td>1</td>\n",
              "      <td>0</td>\n",
              "      <td>08-05-2013</td>\n",
              "      <td>32</td>\n",
              "      <td>76</td>\n",
              "      <td>10</td>\n",
              "      <td>56</td>\n",
              "      <td>3</td>\n",
              "      <td>1</td>\n",
              "      <td>23</td>\n",
              "      <td>2</td>\n",
              "      <td>4</td>\n",
              "      <td>0</td>\n",
              "      <td>4</td>\n",
              "      <td>8</td>\n",
              "      <td>0</td>\n",
              "      <td>0</td>\n",
              "      <td>0</td>\n",
              "      <td>0</td>\n",
              "      <td>0</td>\n",
              "      <td>0</td>\n",
              "      <td>3</td>\n",
              "      <td>11</td>\n",
              "      <td>0</td>\n",
              "      <td>35</td>\n",
              "      <td>1</td>\n",
              "      <td>8</td>\n",
              "      <td>169</td>\n",
              "    </tr>\n",
              "    <tr>\n",
              "      <th>4855</th>\n",
              "      <td>1974</td>\n",
              "      <td>PHD</td>\n",
              "      <td>MORA_JUNTOS</td>\n",
              "      <td>30351.0</td>\n",
              "      <td>1</td>\n",
              "      <td>0</td>\n",
              "      <td>06-06-2013</td>\n",
              "      <td>19</td>\n",
              "      <td>14</td>\n",
              "      <td>0</td>\n",
              "      <td>24</td>\n",
              "      <td>3</td>\n",
              "      <td>3</td>\n",
              "      <td>2</td>\n",
              "      <td>1</td>\n",
              "      <td>3</td>\n",
              "      <td>0</td>\n",
              "      <td>2</td>\n",
              "      <td>9</td>\n",
              "      <td>0</td>\n",
              "      <td>0</td>\n",
              "      <td>0</td>\n",
              "      <td>0</td>\n",
              "      <td>0</td>\n",
              "      <td>0</td>\n",
              "      <td>3</td>\n",
              "      <td>11</td>\n",
              "      <td>1</td>\n",
              "      <td>46</td>\n",
              "      <td>1</td>\n",
              "      <td>5</td>\n",
              "      <td>46</td>\n",
              "    </tr>\n",
              "    <tr>\n",
              "      <th>5899</th>\n",
              "      <td>1950</td>\n",
              "      <td>PHD</td>\n",
              "      <td>MORA_JUNTOS</td>\n",
              "      <td>5648.0</td>\n",
              "      <td>1</td>\n",
              "      <td>1</td>\n",
              "      <td>13-03-2014</td>\n",
              "      <td>68</td>\n",
              "      <td>28</td>\n",
              "      <td>0</td>\n",
              "      <td>6</td>\n",
              "      <td>1</td>\n",
              "      <td>1</td>\n",
              "      <td>13</td>\n",
              "      <td>1</td>\n",
              "      <td>1</td>\n",
              "      <td>0</td>\n",
              "      <td>0</td>\n",
              "      <td>20</td>\n",
              "      <td>1</td>\n",
              "      <td>0</td>\n",
              "      <td>0</td>\n",
              "      <td>0</td>\n",
              "      <td>0</td>\n",
              "      <td>0</td>\n",
              "      <td>3</td>\n",
              "      <td>11</td>\n",
              "      <td>0</td>\n",
              "      <td>70</td>\n",
              "      <td>2</td>\n",
              "      <td>1</td>\n",
              "      <td>49</td>\n",
              "    </tr>\n",
              "    <tr>\n",
              "      <th>...</th>\n",
              "      <td>...</td>\n",
              "      <td>...</td>\n",
              "      <td>...</td>\n",
              "      <td>...</td>\n",
              "      <td>...</td>\n",
              "      <td>...</td>\n",
              "      <td>...</td>\n",
              "      <td>...</td>\n",
              "      <td>...</td>\n",
              "      <td>...</td>\n",
              "      <td>...</td>\n",
              "      <td>...</td>\n",
              "      <td>...</td>\n",
              "      <td>...</td>\n",
              "      <td>...</td>\n",
              "      <td>...</td>\n",
              "      <td>...</td>\n",
              "      <td>...</td>\n",
              "      <td>...</td>\n",
              "      <td>...</td>\n",
              "      <td>...</td>\n",
              "      <td>...</td>\n",
              "      <td>...</td>\n",
              "      <td>...</td>\n",
              "      <td>...</td>\n",
              "      <td>...</td>\n",
              "      <td>...</td>\n",
              "      <td>...</td>\n",
              "      <td>...</td>\n",
              "      <td>...</td>\n",
              "      <td>...</td>\n",
              "      <td>...</td>\n",
              "    </tr>\n",
              "    <tr>\n",
              "      <th>7004</th>\n",
              "      <td>1984</td>\n",
              "      <td>GRADUAÇÃO</td>\n",
              "      <td>SOLTEIRO(A)</td>\n",
              "      <td>11012.0</td>\n",
              "      <td>1</td>\n",
              "      <td>0</td>\n",
              "      <td>16-03-2013</td>\n",
              "      <td>82</td>\n",
              "      <td>24</td>\n",
              "      <td>3</td>\n",
              "      <td>26</td>\n",
              "      <td>7</td>\n",
              "      <td>1</td>\n",
              "      <td>23</td>\n",
              "      <td>3</td>\n",
              "      <td>3</td>\n",
              "      <td>1</td>\n",
              "      <td>2</td>\n",
              "      <td>9</td>\n",
              "      <td>1</td>\n",
              "      <td>0</td>\n",
              "      <td>0</td>\n",
              "      <td>0</td>\n",
              "      <td>0</td>\n",
              "      <td>0</td>\n",
              "      <td>3</td>\n",
              "      <td>11</td>\n",
              "      <td>0</td>\n",
              "      <td>36</td>\n",
              "      <td>1</td>\n",
              "      <td>6</td>\n",
              "      <td>84</td>\n",
              "    </tr>\n",
              "    <tr>\n",
              "      <th>9817</th>\n",
              "      <td>1970</td>\n",
              "      <td>MESTRADO</td>\n",
              "      <td>SOLTEIRO(A)</td>\n",
              "      <td>44802.0</td>\n",
              "      <td>0</td>\n",
              "      <td>0</td>\n",
              "      <td>21-08-2012</td>\n",
              "      <td>71</td>\n",
              "      <td>853</td>\n",
              "      <td>10</td>\n",
              "      <td>143</td>\n",
              "      <td>13</td>\n",
              "      <td>10</td>\n",
              "      <td>20</td>\n",
              "      <td>2</td>\n",
              "      <td>9</td>\n",
              "      <td>4</td>\n",
              "      <td>12</td>\n",
              "      <td>8</td>\n",
              "      <td>0</td>\n",
              "      <td>0</td>\n",
              "      <td>0</td>\n",
              "      <td>0</td>\n",
              "      <td>0</td>\n",
              "      <td>0</td>\n",
              "      <td>3</td>\n",
              "      <td>11</td>\n",
              "      <td>0</td>\n",
              "      <td>50</td>\n",
              "      <td>0</td>\n",
              "      <td>25</td>\n",
              "      <td>1049</td>\n",
              "    </tr>\n",
              "    <tr>\n",
              "      <th>8080</th>\n",
              "      <td>1986</td>\n",
              "      <td>GRADUAÇÃO</td>\n",
              "      <td>SOLTEIRO(A)</td>\n",
              "      <td>26816.0</td>\n",
              "      <td>0</td>\n",
              "      <td>0</td>\n",
              "      <td>17-08-2012</td>\n",
              "      <td>50</td>\n",
              "      <td>5</td>\n",
              "      <td>1</td>\n",
              "      <td>6</td>\n",
              "      <td>3</td>\n",
              "      <td>4</td>\n",
              "      <td>3</td>\n",
              "      <td>1</td>\n",
              "      <td>0</td>\n",
              "      <td>0</td>\n",
              "      <td>3</td>\n",
              "      <td>4</td>\n",
              "      <td>0</td>\n",
              "      <td>0</td>\n",
              "      <td>0</td>\n",
              "      <td>0</td>\n",
              "      <td>0</td>\n",
              "      <td>0</td>\n",
              "      <td>3</td>\n",
              "      <td>11</td>\n",
              "      <td>0</td>\n",
              "      <td>34</td>\n",
              "      <td>0</td>\n",
              "      <td>3</td>\n",
              "      <td>22</td>\n",
              "    </tr>\n",
              "    <tr>\n",
              "      <th>8372</th>\n",
              "      <td>1974</td>\n",
              "      <td>GRADUAÇÃO</td>\n",
              "      <td>CASADO(A)</td>\n",
              "      <td>34421.0</td>\n",
              "      <td>1</td>\n",
              "      <td>0</td>\n",
              "      <td>01-07-2013</td>\n",
              "      <td>81</td>\n",
              "      <td>3</td>\n",
              "      <td>3</td>\n",
              "      <td>7</td>\n",
              "      <td>6</td>\n",
              "      <td>2</td>\n",
              "      <td>9</td>\n",
              "      <td>1</td>\n",
              "      <td>1</td>\n",
              "      <td>0</td>\n",
              "      <td>2</td>\n",
              "      <td>7</td>\n",
              "      <td>0</td>\n",
              "      <td>0</td>\n",
              "      <td>0</td>\n",
              "      <td>0</td>\n",
              "      <td>0</td>\n",
              "      <td>0</td>\n",
              "      <td>3</td>\n",
              "      <td>11</td>\n",
              "      <td>0</td>\n",
              "      <td>46</td>\n",
              "      <td>1</td>\n",
              "      <td>3</td>\n",
              "      <td>30</td>\n",
              "    </tr>\n",
              "    <tr>\n",
              "      <th>9405</th>\n",
              "      <td>1954</td>\n",
              "      <td>PHD</td>\n",
              "      <td>CASADO(A)</td>\n",
              "      <td>52869.0</td>\n",
              "      <td>1</td>\n",
              "      <td>1</td>\n",
              "      <td>15-10-2012</td>\n",
              "      <td>40</td>\n",
              "      <td>84</td>\n",
              "      <td>3</td>\n",
              "      <td>61</td>\n",
              "      <td>2</td>\n",
              "      <td>1</td>\n",
              "      <td>21</td>\n",
              "      <td>3</td>\n",
              "      <td>3</td>\n",
              "      <td>1</td>\n",
              "      <td>4</td>\n",
              "      <td>7</td>\n",
              "      <td>0</td>\n",
              "      <td>0</td>\n",
              "      <td>0</td>\n",
              "      <td>0</td>\n",
              "      <td>0</td>\n",
              "      <td>0</td>\n",
              "      <td>3</td>\n",
              "      <td>11</td>\n",
              "      <td>1</td>\n",
              "      <td>66</td>\n",
              "      <td>2</td>\n",
              "      <td>8</td>\n",
              "      <td>172</td>\n",
              "    </tr>\n",
              "  </tbody>\n",
              "</table>\n",
              "<p>1177 rows × 32 columns</p>\n",
              "</div>\n",
              "      <button class=\"colab-df-convert\" onclick=\"convertToInteractive('df-b1f6ca9f-771b-49e6-b49d-802c484b6607')\"\n",
              "              title=\"Convert this dataframe to an interactive table.\"\n",
              "              style=\"display:none;\">\n",
              "        \n",
              "  <svg xmlns=\"http://www.w3.org/2000/svg\" height=\"24px\"viewBox=\"0 0 24 24\"\n",
              "       width=\"24px\">\n",
              "    <path d=\"M0 0h24v24H0V0z\" fill=\"none\"/>\n",
              "    <path d=\"M18.56 5.44l.94 2.06.94-2.06 2.06-.94-2.06-.94-.94-2.06-.94 2.06-2.06.94zm-11 1L8.5 8.5l.94-2.06 2.06-.94-2.06-.94L8.5 2.5l-.94 2.06-2.06.94zm10 10l.94 2.06.94-2.06 2.06-.94-2.06-.94-.94-2.06-.94 2.06-2.06.94z\"/><path d=\"M17.41 7.96l-1.37-1.37c-.4-.4-.92-.59-1.43-.59-.52 0-1.04.2-1.43.59L10.3 9.45l-7.72 7.72c-.78.78-.78 2.05 0 2.83L4 21.41c.39.39.9.59 1.41.59.51 0 1.02-.2 1.41-.59l7.78-7.78 2.81-2.81c.8-.78.8-2.07 0-2.86zM5.41 20L4 18.59l7.72-7.72 1.47 1.35L5.41 20z\"/>\n",
              "  </svg>\n",
              "      </button>\n",
              "      \n",
              "  <style>\n",
              "    .colab-df-container {\n",
              "      display:flex;\n",
              "      flex-wrap:wrap;\n",
              "      gap: 12px;\n",
              "    }\n",
              "\n",
              "    .colab-df-convert {\n",
              "      background-color: #E8F0FE;\n",
              "      border: none;\n",
              "      border-radius: 50%;\n",
              "      cursor: pointer;\n",
              "      display: none;\n",
              "      fill: #1967D2;\n",
              "      height: 32px;\n",
              "      padding: 0 0 0 0;\n",
              "      width: 32px;\n",
              "    }\n",
              "\n",
              "    .colab-df-convert:hover {\n",
              "      background-color: #E2EBFA;\n",
              "      box-shadow: 0px 1px 2px rgba(60, 64, 67, 0.3), 0px 1px 3px 1px rgba(60, 64, 67, 0.15);\n",
              "      fill: #174EA6;\n",
              "    }\n",
              "\n",
              "    [theme=dark] .colab-df-convert {\n",
              "      background-color: #3B4455;\n",
              "      fill: #D2E3FC;\n",
              "    }\n",
              "\n",
              "    [theme=dark] .colab-df-convert:hover {\n",
              "      background-color: #434B5C;\n",
              "      box-shadow: 0px 1px 3px 1px rgba(0, 0, 0, 0.15);\n",
              "      filter: drop-shadow(0px 1px 2px rgba(0, 0, 0, 0.3));\n",
              "      fill: #FFFFFF;\n",
              "    }\n",
              "  </style>\n",
              "\n",
              "      <script>\n",
              "        const buttonEl =\n",
              "          document.querySelector('#df-b1f6ca9f-771b-49e6-b49d-802c484b6607 button.colab-df-convert');\n",
              "        buttonEl.style.display =\n",
              "          google.colab.kernel.accessAllowed ? 'block' : 'none';\n",
              "\n",
              "        async function convertToInteractive(key) {\n",
              "          const element = document.querySelector('#df-b1f6ca9f-771b-49e6-b49d-802c484b6607');\n",
              "          const dataTable =\n",
              "            await google.colab.kernel.invokeFunction('convertToInteractive',\n",
              "                                                     [key], {});\n",
              "          if (!dataTable) return;\n",
              "\n",
              "          const docLinkHtml = 'Like what you see? Visit the ' +\n",
              "            '<a target=\"_blank\" href=https://colab.research.google.com/notebooks/data_table.ipynb>data table notebook</a>'\n",
              "            + ' to learn more about interactive tables.';\n",
              "          element.innerHTML = '';\n",
              "          dataTable['output_type'] = 'display_data';\n",
              "          await google.colab.output.renderOutput(dataTable, element);\n",
              "          const docLink = document.createElement('div');\n",
              "          docLink.innerHTML = docLinkHtml;\n",
              "          element.appendChild(docLink);\n",
              "        }\n",
              "      </script>\n",
              "    </div>\n",
              "  </div>\n",
              "  "
            ]
          },
          "metadata": {},
          "execution_count": 93
        }
      ]
    },
    {
      "cell_type": "code",
      "source": [
        "df['tem_filhos'] = (df.filhos > 0 )"
      ],
      "metadata": {
        "id": "bOPZUx1H9Veo"
      },
      "execution_count": null,
      "outputs": []
    },
    {
      "cell_type": "code",
      "source": [
        "df.loc[df.tem_filhos == True ,['tem_filhos']] = 'SIM'\n",
        "df.loc[df.tem_filhos == False ,['tem_filhos']] = 'NAO'"
      ],
      "metadata": {
        "id": "4-xDDI0e9KLY"
      },
      "execution_count": null,
      "outputs": []
    },
    {
      "cell_type": "code",
      "source": [
        "df['dt_cadastro'] = pd.to_datetime(df['dt_cadastro'])"
      ],
      "metadata": {
        "id": "BhE3JePO9j65"
      },
      "execution_count": null,
      "outputs": []
    },
    {
      "cell_type": "code",
      "source": [
        "df['tempo_cadastro'] = (df.dt_cadastro.dt.year - 2020)*-1"
      ],
      "metadata": {
        "id": "lTqGSqt49k1F"
      },
      "execution_count": null,
      "outputs": []
    },
    {
      "cell_type": "code",
      "source": [
        "tempocadastro_totalcompras = df.groupby('tempo_cadastro')['total_compras'].sum()\n",
        "tempocadastro_totalcompras.sort_values(ascending=False).plot.bar(figsize=(10,5))"
      ],
      "metadata": {
        "colab": {
          "base_uri": "https://localhost:8080/",
          "height": 348
        },
        "id": "pHbOSfyT9tmz",
        "outputId": "071bcaae-b8cf-4ff9-cc84-914064a8c69b"
      },
      "execution_count": null,
      "outputs": [
        {
          "output_type": "execute_result",
          "data": {
            "text/plain": [
              "<AxesSubplot:xlabel='tempo_cadastro'>"
            ]
          },
          "metadata": {},
          "execution_count": 98
        },
        {
          "output_type": "display_data",
          "data": {
            "text/plain": [
              "<Figure size 720x360 with 1 Axes>"
            ],
            "image/png": "[encoded data removed]"
          },
          "metadata": {
            "needs_background": "light"
          }
        }
      ]
    },
    {
      "cell_type": "code",
      "source": [
        "# calcular as somas das compras para cada categoria de renda\n",
        "somas = [df.loc[rendac]['total_compras'].sum(), df.loc[rendab]['total_compras'].sum(), df.loc[rendaa]['total_compras'].sum()]\n",
        "\n",
        "# definir as categorias de renda para o eixo x\n",
        "categorias = ['rendac', 'rendab', 'rendaa']\n",
        "\n",
        "# criar uma série pandas com as somas das compras e as categorias de renda como índice\n",
        "serie_somas = pd.Series(somas, index=categorias)\n",
        "\n",
        "# criar o gráfico de barras usando o método plot.bar()\n",
        "serie_somas.plot.bar()\n"
      ],
      "metadata": {
        "colab": {
          "base_uri": "https://localhost:8080/",
          "height": 307
        },
        "id": "hQ0eaNTn-Lh7",
        "outputId": "1be30cce-0ebc-4687-9bf3-3ec2a66a8106"
      },
      "execution_count": null,
      "outputs": [
        {
          "output_type": "execute_result",
          "data": {
            "text/plain": [
              "<AxesSubplot:>"
            ]
          },
          "metadata": {},
          "execution_count": 99
        },
        {
          "output_type": "display_data",
          "data": {
            "text/plain": [
              "<Figure size 432x288 with 1 Axes>"
            ],
            "image/png": "[encoded data removed]"
          },
          "metadata": {
            "needs_background": "light"
          }
        }
      ]
    },
    {
      "cell_type": "code",
      "source": [
        "mediapremiun_a =  df.loc[rendaa]['total_compras'].sum() / 8\n",
        "mediapremiun_a"
      ],
      "metadata": {
        "colab": {
          "base_uri": "https://localhost:8080/"
        },
        "id": "6tmHQPct-1wz",
        "outputId": "385010a6-775d-422c-f7cd-4ad17c1fe19c"
      },
      "execution_count": null,
      "outputs": [
        {
          "output_type": "execute_result",
          "data": {
            "text/plain": [
              "13.625"
            ]
          },
          "metadata": {},
          "execution_count": 100
        }
      ]
    },
    {
      "cell_type": "code",
      "source": [
        "df.loc[rendaa].count()"
      ],
      "metadata": {
        "id": "MK8dL__Y-26b",
        "colab": {
          "base_uri": "https://localhost:8080/"
        },
        "outputId": "1ddcf650-08ae-4b41-817e-bc8129192531"
      },
      "execution_count": null,
      "outputs": [
        {
          "output_type": "execute_result",
          "data": {
            "text/plain": [
              "ano_nasc              8\n",
              "escolaridade          8\n",
              "estado_civil          8\n",
              "renda                 8\n",
              "n_criancas            8\n",
              "n_adolescentes        8\n",
              "dt_cadastro           8\n",
              "rfm                   8\n",
              "vinho                 8\n",
              "frutas                8\n",
              "carne                 8\n",
              "peixe                 8\n",
              "doces                 8\n",
              "prod_premiun          8\n",
              "compras_ofertas       8\n",
              "compras_web           8\n",
              "compras_catalogo      8\n",
              "compras_loja          8\n",
              "media_visitas_site    8\n",
              "AcceptedCmp3          8\n",
              "AcceptedCmp4          8\n",
              "AcceptedCmp5          8\n",
              "AcceptedCmp1          8\n",
              "AcceptedCmp2          8\n",
              "reclamacoes           8\n",
              "custo_contrato        8\n",
              "receita_gerada        8\n",
              "Response              8\n",
              "idade                 8\n",
              "filhos                8\n",
              "total_compras         8\n",
              "total_itens           8\n",
              "tem_filhos            8\n",
              "tempo_cadastro        8\n",
              "dtype: int64"
            ]
          },
          "metadata": {},
          "execution_count": 101
        }
      ]
    },
    {
      "cell_type": "code",
      "source": [
        "mediapremiun_b =  df.loc[rendab]['total_compras'].sum() / 1030\n",
        "mediapremiun_b"
      ],
      "metadata": {
        "colab": {
          "base_uri": "https://localhost:8080/"
        },
        "id": "VXvMWItX_QFL",
        "outputId": "b0c64498-f17e-483b-9fdc-165d3a275945"
      },
      "execution_count": null,
      "outputs": [
        {
          "output_type": "execute_result",
          "data": {
            "text/plain": [
              "18.3126213592233"
            ]
          },
          "metadata": {},
          "execution_count": 102
        }
      ]
    },
    {
      "cell_type": "code",
      "source": [
        "mediapremiun_b =  df.loc[rendab]['total_compras'].sum()\n",
        "mediapremiun_b"
      ],
      "metadata": {
        "colab": {
          "base_uri": "https://localhost:8080/"
        },
        "id": "BHJLIO4F_6Hl",
        "outputId": "3d39dbfa-5db7-4afd-a977-83ee91803f36"
      },
      "execution_count": null,
      "outputs": [
        {
          "output_type": "execute_result",
          "data": {
            "text/plain": [
              "18862"
            ]
          },
          "metadata": {},
          "execution_count": 103
        }
      ]
    },
    {
      "cell_type": "code",
      "source": [
        "mediapremiun_a =  df.loc[rendaa]['total_compras'].sum()\n",
        "mediapremiun_a"
      ],
      "metadata": {
        "colab": {
          "base_uri": "https://localhost:8080/"
        },
        "id": "dr-wbyuW_8o-",
        "outputId": "8de2e6a6-89bc-42fc-9652-debdf5323bfc"
      },
      "execution_count": null,
      "outputs": [
        {
          "output_type": "execute_result",
          "data": {
            "text/plain": [
              "109"
            ]
          },
          "metadata": {},
          "execution_count": 104
        }
      ]
    },
    {
      "cell_type": "code",
      "source": [
        "mediapremiun_c =  df.loc[rendac]['total_compras'].sum()\n",
        "mediapremiun_c"
      ],
      "metadata": {
        "colab": {
          "base_uri": "https://localhost:8080/"
        },
        "id": "qiGXgfy7__u0",
        "outputId": "a2638027-8219-4227-cf29-4cf304b7897f"
      },
      "execution_count": null,
      "outputs": [
        {
          "output_type": "execute_result",
          "data": {
            "text/plain": [
              "8849"
            ]
          },
          "metadata": {},
          "execution_count": 105
        }
      ]
    },
    {
      "cell_type": "markdown",
      "source": [
        "##Insights e sugestões"
      ],
      "metadata": {
        "id": "n8vt_yMfAiRp"
      }
    },
    {
      "cell_type": "markdown",
      "source": [
        "Foi identificado que o público que mais consome vinhos é:\n",
        "Viúvos, com alto grau de escolaridade e idade entre 44 e 55 anos.\n",
        "Focar em uma campanha, voltada para esse target."
      ],
      "metadata": {
        "id": "4F4Pl7RLAnOs"
      }
    },
    {
      "cell_type": "code",
      "source": [
        "# carregar e salvar no Cloud\n",
        "df.to_csv('marketing_campaign.csv')\n",
        "df.to_csv('gs://adrianohoffmann00/tratados/marketing_campaign.csv')"
      ],
      "metadata": {
        "id": "xLS9qCMZAliF"
      },
      "execution_count": null,
      "outputs": []
    },
    {
      "cell_type": "code",
      "source": [
        "colecao1 = db['tratado']\n"
      ],
      "metadata": {
        "id": "kcA85kzP-BUQ"
      },
      "execution_count": null,
      "outputs": []
    },
    {
      "cell_type": "code",
      "source": [
        "colecao1.insert_one({'nome':'adriano'})"
      ],
      "metadata": {
        "colab": {
          "base_uri": "https://localhost:8080/"
        },
        "id": "Idgpq_IIN2gO",
        "outputId": "bbeb6c45-837b-4dd2-e5b5-b0c2cf18e39c"
      },
      "execution_count": null,
      "outputs": [
        {
          "output_type": "execute_result",
          "data": {
            "text/plain": [
              "<pymongo.results.InsertOneResult at 0x7ff59a03f430>"
            ]
          },
          "metadata": {},
          "execution_count": 110
        }
      ]
    },
    {
      "cell_type": "code",
      "source": [
        "# converte o df em dicionarios para aceitar no MongoDB\n",
        "df_dict_tratado = df.to_dict('records')\n",
        "colecao1.insert_many(df_dict_tratado)"
      ],
      "metadata": {
        "colab": {
          "base_uri": "https://localhost:8080/"
        },
        "id": "ky_jF5inNOR2",
        "outputId": "7ad16fbb-3bfa-450b-9bf3-06a7baee00db"
      },
      "execution_count": null,
      "outputs": [
        {
          "output_type": "execute_result",
          "data": {
            "text/plain": [
              "<pymongo.results.InsertManyResult at 0x7ff59a010fd0>"
            ]
          },
          "metadata": {},
          "execution_count": 109
        }
      ]
    }
  ]
}